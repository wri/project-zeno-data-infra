{
 "cells": [
  {
   "cell_type": "markdown",
   "id": "fbd04df1-a79a-4b13-9a9e-3a6f6aba5c74",
   "metadata": {},
   "source": [
    "This notebook converts tiled geotiffs of the various datasets in Zeno project to \n",
    "zarr format for efficient read for large scale zonal stats analysis.\n",
    "\n",
    "See `compare_zarr_to_cog.ipynb` for a performance benchmark between tiled geotiff, cog and zarr formats"
   ]
  },
  {
   "cell_type": "code",
   "execution_count": null,
   "id": "c7e32123-0d44-4443-9208-db63a2fb85a6",
   "metadata": {},
   "outputs": [],
   "source": [
    "import coiled\n",
    "\n",
    "import fsspec\n",
    "import numpy as np\n",
    "import rioxarray\n",
    "import xarray as xr\n",
    "import fsspec\n",
    "import pandas as pd\n",
    "import logging\n",
    "from flox.xarray import xarray_reduce\n",
    "import numpy as np\n",
    "\n",
    "import dask\n",
    "import zarr\n",
    "import gcsfs"
   ]
  },
  {
   "cell_type": "code",
   "execution_count": null,
   "id": "ede7bfdf-5497-4882-9b3c-0355693be7e4",
   "metadata": {},
   "outputs": [],
   "source": [
    "fs = fsspec.filesystem(\"s3\", requester_pays=True)"
   ]
  },
  {
   "cell_type": "code",
   "execution_count": null,
   "id": "7e697819-6ba0-4f48-8ce9-6a8dd0a56e88",
   "metadata": {},
   "outputs": [],
   "source": [
    "logging.getLogger(\"distributed.client\").setLevel(logging.ERROR)"
   ]
  },
  {
   "cell_type": "code",
   "execution_count": null,
   "id": "25fadd56-f29b-4901-9d84-57bcdb1f5dc3",
   "metadata": {},
   "outputs": [],
   "source": [
    "cluster = coiled.Cluster(\n",
    "    name=\"tcl_dask\",\n",
    "    region=\"us-east-1\",\n",
    "    n_workers=20,\n",
    "    tags={\"project\": \"tcl_dask\"},\n",
    "    scheduler_vm_types=\"r7g.xlarge\",\n",
    "    worker_vm_types=\"r7g.2xlarge\",\n",
    "    compute_purchase_option=\"spot_with_fallback\"\n",
    ")\n",
    "\n",
    "client = cluster.get_client()"
   ]
  },
  {
   "cell_type": "code",
   "execution_count": null,
   "id": "7ea52293-9dda-4eee-b2b9-aa72c9abb8e3",
   "metadata": {},
   "outputs": [],
   "source": [
    "cluster.adapt(minimum=10, maximum=50)"
   ]
  },
  {
   "cell_type": "code",
   "execution_count": null,
   "id": "670db547-e9ff-42e9-95e7-ec6632d571eb",
   "metadata": {},
   "outputs": [],
   "source": [
    "dist_alerts_tiles = pd.read_json(\n",
    "    \"s3://gfw-data-lake/umd_glad_dist_alerts/v20250510/raster/epsg-4326/10/40000/default/gdal-geotiff/tiles.geojson\"\n",
    ")\n",
    "adm0_tiles = pd.read_json(\n",
    "    's3://gfw-data-lake/gadm_administrative_boundaries/v4.1.85/raster/epsg-4326/10/40000/adm0/gdal-geotiff/tiles.geojson'\n",
    ")\n",
    "\n",
    "adm1_tiles = pd.read_json(\n",
    "    's3://gfw-data-lake/gadm_administrative_boundaries/v4.1.85/raster/epsg-4326/10/40000/adm1/gdal-geotiff/tiles.geojson'\n",
    ")\n",
    "\n",
    "adm2_tiles = pd.read_json(\n",
    "    's3://gfw-data-lake/gadm_administrative_boundaries/v4.1.85/raster/epsg-4326/10/40000/adm2/gdal-geotiff/tiles.geojson'\n",
    ")\n",
    "\n",
    "pixel_area_tiles = pd.read_json(\n",
    "    's3://gfw-data-lake/umd_area_2013/v1.10/raster/epsg-4326/10/40000/area_m/gdal-geotiff/tiles.geojson'\n",
    ")\n",
    "\n",
    "def get_uri(feature):\n",
    "    raw = feature['properties']['name'].split('/')[2:]\n",
    "    uri = '/'.join(['s3:/'] + raw)\n",
    "    return uri\n",
    "\n",
    "dist_alerts_tile_uris = dist_alerts_tiles.features.apply(get_uri)\n",
    "adm0_tile_uris = adm0_tiles.features.apply(get_uri)\n",
    "adm1_tile_uris = adm1_tiles.features.apply(get_uri)\n",
    "adm2_tile_uris = adm2_tiles.features.apply(get_uri)\n",
    "pixel_area_uris = pixel_area_tiles.features.apply(get_uri)\n"
   ]
  },
  {
   "cell_type": "code",
   "execution_count": null,
   "id": "ca331997-b0f5-4a4b-a01a-5aca86f3ed15",
   "metadata": {},
   "outputs": [],
   "source": [
    "dist_alerts = tcl_year = xr.open_mfdataset(\n",
    "    dist_alerts_tile_uris,\n",
    "    parallel=True,\n",
    "    chunks={'x': 10000, 'y':10000}\n",
    ").astype(np.int16)"
   ]
  },
  {
   "cell_type": "code",
   "execution_count": null,
   "id": "489e9911-232d-4f51-a955-660e75512b0f",
   "metadata": {},
   "outputs": [],
   "source": [
    "dist_alerts.band_data"
   ]
  },
  {
   "cell_type": "code",
   "execution_count": null,
   "id": "d1577df1-7a49-44ff-8fda-c575fd35036c",
   "metadata": {},
   "outputs": [],
   "source": [
    "dist_zarr_name = \"s3://gfw-data-lake/umd_glad_dist_alerts/v20250510/raster/epsg-4326/zarr/dist_alerts_full.zarr\""
   ]
  },
  {
   "cell_type": "code",
   "execution_count": null,
   "id": "6a97f3f2-b14d-4df9-8646-fa1c67ff446b",
   "metadata": {},
   "outputs": [],
   "source": [
    "dist_alerts.band_data.to_zarr(dist_zarr_name, mode='w')"
   ]
  },
  {
   "cell_type": "markdown",
   "id": "98120c70-d6fb-41df-ac5f-97ca010559b2",
   "metadata": {},
   "source": [
    "#### Save alert date and confidence as separate variables as well"
   ]
  },
  {
   "cell_type": "code",
   "execution_count": null,
   "id": "ba3e6ff1-7d5c-4bc5-aad3-b6aced56f658",
   "metadata": {},
   "outputs": [],
   "source": [
    "alert_date = dist_alerts.band_data % 10000\n",
    "alert_conf = (dist_alerts.band_data // 10000).astype(np.uint8)\n",
    "alert_conf.name = \"confidence\"\n",
    "alert_date.name = \"alert_date\"\n",
    "date_conf = xr.merge((alert_conf, alert_date))\n",
    "date_conf.to_zarr(\"s3://gfw-data-lake/umd_glad_dist_alerts/v20250510/raster/epsg-4326/zarr/date_conf.zarr\", mode=\"w\")"
   ]
  },
  {
   "cell_type": "code",
   "execution_count": null,
   "id": "0115d38a-934f-4719-9157-ebe3dfef92e5",
   "metadata": {},
   "outputs": [],
   "source": [
    "\n",
    "adm0 = xr.open_mfdataset(\n",
    "    adm0_tile_uris,\n",
    "    parallel=True,\n",
    "    chunks={'x': 10000, 'y':10000}\n",
    ").astype(np.uint16)"
   ]
  },
  {
   "cell_type": "code",
   "execution_count": null,
   "id": "006aaede-c20f-44cd-b99d-be418a7b4569",
   "metadata": {},
   "outputs": [],
   "source": [
    "adm0.band_data"
   ]
  },
  {
   "cell_type": "code",
   "execution_count": null,
   "id": "c25f81c2-8cbe-470b-ab44-37bc25a54491",
   "metadata": {},
   "outputs": [],
   "source": [
    "adm1 = xr.open_mfdataset(\n",
    "    adm1_tile_uris,\n",
    "    parallel=True,\n",
    "    chunks={'x': 10000, 'y':10000}\n",
    ").astype(np.uint8)"
   ]
  },
  {
   "cell_type": "code",
   "execution_count": null,
   "id": "6d83c8f1-86f1-4b98-b3d2-b83ad12ba8a1",
   "metadata": {},
   "outputs": [],
   "source": [
    "adm1.band_data"
   ]
  },
  {
   "cell_type": "code",
   "execution_count": null,
   "id": "689ceaab-465a-4cae-8632-32087c3155c5",
   "metadata": {},
   "outputs": [],
   "source": [
    "adm2 = xr.open_mfdataset(\n",
    "    adm2_tile_uris,\n",
    "    parallel=True,\n",
    "    chunks={'x': 10000, 'y':10000}\n",
    ").astype(np.uint16)"
   ]
  },
  {
   "cell_type": "code",
   "execution_count": null,
   "id": "a1d29a29-35f3-4023-9f0c-0ac664ed110b",
   "metadata": {},
   "outputs": [],
   "source": [
    "adm2.band_data"
   ]
  },
  {
   "cell_type": "code",
   "execution_count": null,
   "id": "885d86f8-956a-4f64-af25-7326ea00bc03",
   "metadata": {},
   "outputs": [],
   "source": [
    "pixel_area = xr.open_mfdataset(\n",
    "    pixel_area_uris,\n",
    "    parallel=True,\n",
    "    chunks={'x': 10000, 'y':10000}\n",
    ")\n",
    "pixel_area.band_data"
   ]
  },
  {
   "cell_type": "code",
   "execution_count": null,
   "id": "c0a92e2c-fd09-4485-aa48-14b1a378edc1",
   "metadata": {},
   "outputs": [],
   "source": [
    "_, adm1_aligned = xr.align(dist_alerts, adm1, join='left')"
   ]
  },
  {
   "cell_type": "code",
   "execution_count": null,
   "id": "01dda636-662b-4623-b291-2967743d8e89",
   "metadata": {},
   "outputs": [],
   "source": [
    "adm1_aligned.band_data.to_zarr(\n",
    "    's3://gfw-data-lake/gadm_administrative_boundaries/v4.1.85/raster/epsg-4326/zarr/adm1_clipped_to_dist.zarr'\n",
    ")"
   ]
  },
  {
   "cell_type": "code",
   "execution_count": null,
   "id": "cec45a57-f849-4e95-8ecc-ddfc16f78d7e",
   "metadata": {},
   "outputs": [],
   "source": [
    "_, adm2_aligned = xr.align(dist_alerts, adm2, join='left')"
   ]
  },
  {
   "cell_type": "code",
   "execution_count": null,
   "id": "ecad4f31-b3f2-4518-b1a2-833fbbd04665",
   "metadata": {},
   "outputs": [],
   "source": [
    "adm2_aligned.band_data.to_zarr(\n",
    "    's3://gfw-data-lake/gadm_administrative_boundaries/v4.1.85/raster/epsg-4326/zarr/adm2_clipped_to_dist.zarr'\n",
    ")"
   ]
  },
  {
   "cell_type": "code",
   "execution_count": null,
   "id": "38471589-eeef-4a20-8316-bf4e70e26531",
   "metadata": {},
   "outputs": [],
   "source": [
    "_, adm0_aligned = xr.align(dist_alerts, adm0, join='left')"
   ]
  },
  {
   "cell_type": "code",
   "execution_count": null,
   "id": "2d170ea6-be84-4e5a-a271-d207cc51d36b",
   "metadata": {},
   "outputs": [],
   "source": [
    "adm0_aligned.band_data.to_zarr(\n",
    "    's3://gfw-data-lake/gadm_administrative_boundaries/v4.1.85/raster/epsg-4326/zarr/adm0_clipped_to_dist.zarr', mode='w'\n",
    ")"
   ]
  },
  {
   "cell_type": "code",
   "execution_count": null,
   "id": "a538761e-30b1-4be0-a885-be96cd0de1e1",
   "metadata": {},
   "outputs": [],
   "source": [
    "_, pixel_area_aligned = xr.align(dist_alerts, pixel_area, join='left')"
   ]
  },
  {
   "cell_type": "code",
   "execution_count": null,
   "id": "e289b047-1fc3-4c36-bedd-9cdd93738b3f",
   "metadata": {},
   "outputs": [],
   "source": [
    "pixel_area_aligned.band_data"
   ]
  },
  {
   "cell_type": "code",
   "execution_count": null,
   "id": "0416d732-2ac0-4f78-ae71-779336dcae87",
   "metadata": {},
   "outputs": [],
   "source": [
    "pixel_area_aligned.band_data.to_zarr(\n",
    "    's3://gfw-data-lake/umd_area_2013/v1.10/raster/epsg-4326/zarr/pixel_area_clipped_to_dist.zarr', mode='w'\n",
    ")"
   ]
  },
  {
   "cell_type": "code",
   "execution_count": null,
   "id": "61c32d89-1dca-401d-95a1-d08903404953",
   "metadata": {},
   "outputs": [],
   "source": [
    "def set_env():\n",
    "    import os\n",
    "    os.environ['GS_NO_SIGN_REQUEST'] = 'YES'\n",
    "\n",
    "client.run(set_env)"
   ]
  },
  {
   "cell_type": "code",
   "execution_count": null,
   "id": "3826ebea-8c1b-4bba-8997-a72f02468433",
   "metadata": {},
   "outputs": [],
   "source": [
    "gfs = gcsfs.GCSFileSystem(token=None)\n",
    "\n",
    "bucket_path = 'lcl_public/SBTN_NaturalLands/v1_1/classification/'\n",
    "file_list = gfs.glob(f'{bucket_path}*.tif')\n",
    "\n",
    "natural_lands_urls_all_classes_urls = [f'gs://{f}' for f in file_list]"
   ]
  },
  {
   "cell_type": "code",
   "execution_count": null,
   "id": "003c3fd4-fbab-4e73-8485-4b1cfbf4227c",
   "metadata": {},
   "outputs": [],
   "source": [
    "sbtn_natural_lands_all_classes = xr.open_mfdataset(\n",
    "    natural_lands_urls_all_classes_urls,\n",
    "    parallel=True,\n",
    "    chunks={'x': 10000, 'y':10000}\n",
    ").astype(np.uint8)"
   ]
  },
  {
   "cell_type": "code",
   "execution_count": null,
   "id": "8aee8bc6-4c3d-40d1-aeea-1fedc67755d1",
   "metadata": {},
   "outputs": [],
   "source": [
    "sbtn_natural_lands_all_classes.band_data"
   ]
  },
  {
   "cell_type": "code",
   "execution_count": null,
   "id": "4616d2a8-bcc1-4500-91ad-357362801a1e",
   "metadata": {},
   "outputs": [],
   "source": [
    "_, sbtn_natural_lands_all_classes_clipped = xr.align(dist_alerts, sbtn_natural_lands_all_classes, join='left')"
   ]
  },
  {
   "cell_type": "code",
   "execution_count": null,
   "id": "35afea4a-9819-4f73-8308-a27256e20e18",
   "metadata": {},
   "outputs": [],
   "source": [
    "sbtn_natural_lands_all_classes_clipped.to_zarr(\n",
    "    \"s3://gfw-data-lake/sbtn_natural_lands/zarr/sbtn_natural_lands_all_classes_clipped_to_dist.zarr\", mode=\"w\"\n",
    ")"
   ]
  }
 ],
 "metadata": {
  "kernelspec": {
   "display_name": "Python 3 (ipykernel)",
   "language": "python",
   "name": "python3"
  },
  "language_info": {
   "codemirror_mode": {
    "name": "ipython",
    "version": 3
   },
   "file_extension": ".py",
   "mimetype": "text/x-python",
   "name": "python",
   "nbconvert_exporter": "python",
   "pygments_lexer": "ipython3",
   "version": "3.11.11"
  }
 },
 "nbformat": 4,
 "nbformat_minor": 5
}
