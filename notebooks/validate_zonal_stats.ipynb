{
 "cells": [
  {
   "cell_type": "markdown",
   "metadata": {},
   "source": [
    "### Rasterio-based validation of Zeno zonal statistics"
   ]
  },
  {
   "cell_type": "code",
   "execution_count": 1,
   "metadata": {},
   "outputs": [],
   "source": [
    "import numpy as np\n",
    "import pandas as pd\n",
    "import rasterio as rio\n",
    "import geopandas as gpd\n",
    "import pandera.pandas as pa\n",
    "from pandera.typing.pandas import Series\n",
    "from rasterio.windows import from_bounds\n",
    "from rasterio.features import geometry_mask\n",
    "from dateutil.relativedelta import relativedelta\n",
    "from datetime import date\n",
    "from datetime import date\n",
    "from pydantic import BaseModel\n",
    "from typing import Dict, Optional, Literal\n",
    "\n",
    "#from ..pipelines.disturbance.check_for_new_alerts import get_latest_version"
   ]
  },
  {
   "cell_type": "code",
   "execution_count": 2,
   "metadata": {},
   "outputs": [],
   "source": [
    "isos = [\n",
    "    'AFG', 'ALA', 'ALB', 'DZA', 'ASM', 'AND', 'AGO', 'AIA', 'ATA', 'ATG', 'ARG', 'ARM', 'ABW', 'AUS', 'AUT', 'AZE',\n",
    "    'BHS', 'BHR', 'BGD', 'BRB', 'BLR', 'BEL', 'BLZ', 'BEN', 'BMU', 'BTN', 'BOL', 'BES', 'BIH', 'BWA', 'BVT', 'BRA',\n",
    "    'IOT', 'BRN', 'BGR', 'BFA', 'BDI', 'CPV', 'KHM', 'CMR', 'CAN', 'CYM', 'CAF', 'TCD', 'CHL', 'CHN', 'CXR', 'CCK',\n",
    "    'COL', 'COM', 'COG', 'COD', 'COK', 'CRI', 'CIV', 'HRV', 'CUB', 'CUW', 'CYP', 'CZE', 'DNK', 'DJI', 'DMA', 'DOM',\n",
    "    'ECU', 'EGY', 'SLV', 'GNQ', 'ERI', 'EST', 'SWZ', 'ETH', 'FLK', 'FRO', 'FJI', 'FIN', 'FRA', 'GUF', 'PYF', 'ATF',\n",
    "    'GAB', 'GMB', 'GEO', 'DEU', 'GHA', 'GIB', 'GRC', 'GRL', 'GRD', 'GLP', 'GUM', 'GTM', 'GGY', 'GIN', 'GNB', 'GUY',\n",
    "    'HTI', 'HMD', 'VAT', 'HND', 'HKG', 'HUN', 'ISL', 'IND', 'IDN', 'IRN', 'IRQ', 'IRL', 'IMN', 'ISR', 'ITA', 'JAM',\n",
    "    'JPN', 'JEY', 'JOR', 'KAZ', 'KEN', 'KIR', 'PRK', 'KOR', 'KWT', 'KGZ', 'LAO', 'LVA', 'LBN', 'LSO', 'LBR', 'LBY',\n",
    "    'LIE', 'LTU', 'LUX', 'MAC', 'MDG', 'MWI', 'MYS', 'MDV', 'MLI', 'MLT', 'MHL', 'MTQ', 'MRT', 'MUS', 'MYT', 'MEX',\n",
    "    'FSM', 'MDA', 'MCO', 'MNG', 'MNE', 'MSR', 'MAR', 'MOZ', 'MMR', 'NAM', 'NRU', 'NPL', 'NLD', 'NCL', 'NZL', 'NIC',\n",
    "    'NER', 'NGA', 'NIU', 'NFK', 'MKD', 'MNP', 'NOR', 'OMN', 'PAK', 'PLW', 'PSE', 'PAN', 'PNG', 'PRY', 'PER', 'PHL',\n",
    "    'PCN', 'POL', 'PRT', 'PRI', 'QAT', 'REU', 'ROU', 'RUS', 'RWA', 'BLM', 'SHN', 'KNA', 'LCA', 'MAF', 'SPM', 'VCT',\n",
    "    'WSM', 'SMR', 'STP', 'SAU', 'SEN', 'SRB', 'SYC', 'SLE', 'SGP', 'SXM', 'SVK', 'SVN', 'SLB', 'SOM', 'ZAF', 'SGS',\n",
    "    'SSD', 'ESP', 'LKA', 'SDN', 'SUR', 'SJM', 'SWE', 'CHE', 'SYR', 'TWN', 'TJK', 'TZA', 'THA', 'TLS', 'TGO', 'TKL',\n",
    "    'TON', 'TTO', 'TUN', 'TUR', 'TKM', 'TCA', 'TUV', 'UGA', 'UKR', 'ARE', 'GBR', 'USA', 'UMI', 'URY', 'UZB', 'VUT',\n",
    "    'VEN', 'VNM', 'VGB', 'VIR', 'WLF', 'ESH', 'YEM', 'ZMB', 'ZWE'\n",
    "]\n",
    "\n",
    "numeric_to_alpha3 = {\n",
    "    4: 'AFG', 248: 'ALA', 8: 'ALB', 12: 'DZA', 16: 'ASM', 20: 'AND', 24: 'AGO', 660: 'AIA',\n",
    "    10: 'ATA', 28: 'ATG', 32: 'ARG', 51: 'ARM', 533: 'ABW', 36: 'AUS', 40: 'AUT', 31: 'AZE',\n",
    "    44: 'BHS', 48: 'BHR', 50: 'BGD', 52: 'BRB', 112: 'BLR', 56: 'BEL', 84: 'BLZ', 204: 'BEN',\n",
    "    60: 'BMU', 64: 'BTN', 68: 'BOL', 535: 'BES', 70: 'BIH', 72: 'BWA', 74: 'BVT', 76: 'BRA',\n",
    "    86: 'IOT', 96: 'BRN', 100: 'BGR', 854: 'BFA', 108: 'BDI', 132: 'CPV', 116: 'KHM', 120: 'CMR',\n",
    "    124: 'CAN', 136: 'CYM', 140: 'CAF', 148: 'TCD', 152: 'CHL', 156: 'CHN', 162: 'CXR', 166: 'CCK',\n",
    "    170: 'COL', 174: 'COM', 178: 'COG', 180: 'COD', 184: 'COK', 188: 'CRI', 384: 'CIV', 191: 'HRV',\n",
    "    192: 'CUB', 531: 'CUW', 196: 'CYP', 203: 'CZE', 208: 'DNK', 262: 'DJI', 212: 'DMA', 214: 'DOM',\n",
    "    218: 'ECU', 818: 'EGY', 222: 'SLV', 226: 'GNQ', 232: 'ERI', 233: 'EST', 748: 'SWZ', 231: 'ETH',\n",
    "    238: 'FLK', 234: 'FRO', 242: 'FJI', 246: 'FIN', 250: 'FRA', 254: 'GUF', 258: 'PYF', 260: 'ATF',\n",
    "    266: 'GAB', 270: 'GMB', 268: 'GEO', 276: 'DEU', 288: 'GHA', 292: 'GIB', 300: 'GRC', 304: 'GRL',\n",
    "    308: 'GRD', 312: 'GLP', 316: 'GUM', 320: 'GTM', 831: 'GGY', 324: 'GIN', 624: 'GNB', 328: 'GUY',\n",
    "    332: 'HTI', 334: 'HMD', 336: 'VAT', 340: 'HND', 344: 'HKG', 348: 'HUN', 352: 'ISL', 356: 'IND',\n",
    "    360: 'IDN', 364: 'IRN', 368: 'IRQ', 372: 'IRL', 833: 'IMN', 376: 'ISR', 380: 'ITA', 388: 'JAM',\n",
    "    392: 'JPN', 832: 'JEY', 400: 'JOR', 398: 'KAZ', 404: 'KEN', 296: 'KIR', 408: 'PRK', 410: 'KOR',\n",
    "    414: 'KWT', 417: 'KGZ', 418: 'LAO', 428: 'LVA', 422: 'LBN', 426: 'LSO', 430: 'LBR', 434: 'LBY',\n",
    "    438: 'LIE', 440: 'LTU', 442: 'LUX', 446: 'MAC', 450: 'MDG', 454: 'MWI', 458: 'MYS', 462: 'MDV',\n",
    "    466: 'MLI', 470: 'MLT', 584: 'MHL', 474: 'MTQ', 478: 'MRT', 480: 'MUS', 175: 'MYT', 484: 'MEX',\n",
    "    583: 'FSM', 498: 'MDA', 492: 'MCO', 496: 'MNG', 499: 'MNE', 500: 'MSR', 504: 'MAR', 508: 'MOZ',\n",
    "    104: 'MMR', 516: 'NAM', 520: 'NRU', 524: 'NPL', 528: 'NLD', 540: 'NCL', 554: 'NZL', 558: 'NIC',\n",
    "    562: 'NER', 566: 'NGA', 570: 'NIU', 574: 'NFK', 807: 'MKD', 580: 'MNP', 578: 'NOR', 512: 'OMN',\n",
    "    586: 'PAK', 585: 'PLW', 275: 'PSE', 591: 'PAN', 598: 'PNG', 600: 'PRY', 604: 'PER', 608: 'PHL',\n",
    "    612: 'PCN', 616: 'POL', 620: 'PRT', 630: 'PRI', 634: 'QAT', 638: 'REU', 642: 'ROU', 643: 'RUS',\n",
    "    646: 'RWA', 652: 'BLM', 654: 'SHN', 659: 'KNA', 662: 'LCA', 663: 'MAF', 666: 'SPM', 670: 'VCT',\n",
    "    882: 'WSM', 674: 'SMR', 678: 'STP', 682: 'SAU', 686: 'SEN', 688: 'SRB', 690: 'SYC', 694: 'SLE',\n",
    "    702: 'SGP', 534: 'SXM', 703: 'SVK', 705: 'SVN', 90: 'SLB', 706: 'SOM', 710: 'ZAF', 239: 'SGS',\n",
    "    728: 'SSD', 724: 'ESP', 144: 'LKA', 729: 'SDN', 740: 'SUR', 744: 'SJM', 752: 'SWE', 756: 'CHE',\n",
    "    760: 'SYR', 158: 'TWN', 762: 'TJK', 834: 'TZA', 764: 'THA', 626: 'TLS', 768: 'TGO', 772: 'TKL',\n",
    "    776: 'TON', 780: 'TTO', 788: 'TUN', 792: 'TUR', 795: 'TKM', 796: 'TCA', 798: 'TUV', 800: 'UGA',\n",
    "    804: 'UKR', 784: 'ARE', 826: 'GBR', 840: 'USA', 581: 'UMI', 858: 'URY', 860: 'UZB', 548: 'VUT',\n",
    "    862: 'VEN', 704: 'VNM', 92: 'VGB', 850: 'VIR', 876: 'WLF', 732: 'ESH', 887: 'YEM', 894: 'ZMB',\n",
    "    716: 'ZWE'\n",
    "}"
   ]
  },
  {
   "cell_type": "markdown",
   "metadata": {},
   "source": [
    "Provide an admin area shapefile and associate 10/40000 tile to generate validation stats"
   ]
  },
  {
   "cell_type": "code",
   "execution_count": 3,
   "metadata": {},
   "outputs": [],
   "source": [
    "gdf = gpd.read_file(\"../pipelines/validation_statistics/br_rn.json\") # State of Rio Grande do Norte, Brazil\n",
    "aoi = gdf.iloc[0]\n",
    "aoi_tile = \"00N_040W\" # This AOI fits within a tile, but we should build VRTs so we can use any (resonably sized) AOI\n",
    "version = \"v20251004\"\n",
    "gadm41_iso = 76\n",
    "gadm41_region = 20\n",
    "gadm41_subregion = 150"
   ]
  },
  {
   "cell_type": "code",
   "execution_count": 4,
   "metadata": {},
   "outputs": [],
   "source": [
    "class ContextualLayer(BaseModel):\n",
    "    name: Literal[\"sbtn_natural_lands\", \"gfw_grasslands\", \"umd_drivers\", \"umd_land_cover\"]\n",
    "    source_uri: str\n",
    "    column_name: str\n",
    "    classes: Dict[int, str]\n",
    "\n",
    "SBTN_NATURAL_LANDS = ContextualLayer(\n",
    "    name=\"sbtn_natural_lands\",\n",
    "    source_uri=\"s3://gfw-data-lake/sbtn_natural_lands_classification/v1.1/raster/epsg-4326/10/40000/class/geotiff/00N_040W.tif\",\n",
    "    column_name=\"natural_land_class\",\n",
    "    classes= {\n",
    "      2: \"Natural forests\",\n",
    "      3: \"Natural short vegetation\",\n",
    "      4: \"Natural water\",\n",
    "      5: \"Mangroves\",\n",
    "      6: \"Bare\",\n",
    "      7: \"Snow\",\n",
    "      8: \"Wetland natural forests\",\n",
    "      9: \"Natural peat forests\",\n",
    "      10: \"Wetland natural short vegetation\",\n",
    "      11: \"Natural peat short vegetation\",\n",
    "      12: \"Cropland\",\n",
    "      13: \"Built-up\",\n",
    "      14: \"Non-natural tree cover\",\n",
    "      15: \"Non-natural short vegetation\",\n",
    "      16: \"Non-natural water\",\n",
    "      17: \"Wetland non-natural tree cover\",\n",
    "      18: \"Non-natural peat tree cover\",\n",
    "      19: \"Wetland non-natural short vegetation\",\n",
    "      20: \"Non-natural peat short vegetation\",\n",
    "      21: \"Non-natural bare\",\n",
    "  }\n",
    ")\n",
    "\n",
    "DIST_DRIVERS = ContextualLayer(\n",
    "    name=\"umd_drivers\",\n",
    "    source_uri=\"s3://gfw-data-lake/umd_glad_dist_alerts_driver/umd_dist_alerts_driver.tif\",\n",
    "    column_name=\"driver\",\n",
    "    classes={\n",
    "        1: \"Wildfire\",\n",
    "        2: \"Flooding\",\n",
    "        3: \"Crop management\",\n",
    "        4: \"Potential conversion\",\n",
    "        5: \"Unclassified\",\n",
    "    }\n",
    ")\n",
    "\n",
    "GRASSLANDS = ContextualLayer(\n",
    "    name=\"gfw_grasslands\",\n",
    "    source_uri=\"s3://gfw-data-lake/gfw_grasslands/v1/geotiff/grasslands_2022.tif\",\n",
    "    column_name=\"grasslands\",\n",
    "    classes={\n",
    "        0: \"non-grasslands\",\n",
    "        1: \"grasslands\"\n",
    "    }\n",
    ")\n",
    "\n",
    "LAND_COVER = ContextualLayer(\n",
    "    name=\"umd_land_cover\",\n",
    "    source_uri=\"\",\n",
    "    column_name=\"land_cover\",\n",
    "    classes={\n",
    "        0: \"Bare and sparse vegetation\",\n",
    "        1: \"Short vegetation\",\n",
    "        2: \"Tree cover\",\n",
    "        3: \"Wetland – short vegetation\",\n",
    "        4: \"Water\",\n",
    "        5: \"Snow/ice\",\n",
    "        6: \"Cropland\",\n",
    "        7: \"Built-up\",\n",
    "        8: \"Cultivated grasslands\",\n",
    "    }\n",
    ")"
   ]
  },
  {
   "cell_type": "code",
   "execution_count": 18,
   "metadata": {},
   "outputs": [],
   "source": [
    "contextual_layer = DIST_DRIVERS"
   ]
  },
  {
   "cell_type": "code",
   "execution_count": 19,
   "metadata": {},
   "outputs": [],
   "source": [
    "# read dist alerts for AOI\n",
    "bounds = aoi.geometry.bounds\n",
    "with rio.Env(AWS_REQUEST_PAYER=\"requester\"):\n",
    "    with rio.open(\n",
    "        f\"s3://gfw-data-lake/umd_glad_dist_alerts/{version}/raster/epsg-4326/10/40000/default/gdal-geotiff/{aoi_tile}.tif\"\n",
    "    ) as src:\n",
    "        window = from_bounds(\n",
    "            bounds[0], bounds[1], bounds[2], bounds[3], src.transform\n",
    "        )\n",
    "        dist_alerts = src.read(1, window=window)\n",
    "        win_affine = src.window_transform(window)\n",
    "\n",
    "# read area for AOI\n",
    "with rio.Env(AWS_REQUEST_PAYER=\"requester\"):\n",
    "    with rio.open(\n",
    "        f\"s3://gfw-data-lake/umd_area_2013/v1.10/raster/epsg-4326/10/40000/area_m/gdal-geotiff/{aoi_tile}.tif\"\n",
    "    ) as src:\n",
    "        pixel_area__m = src.read(1, window=window)\n",
    "        pixel_area_ha = pixel_area__m / 10000"
   ]
  },
  {
   "cell_type": "code",
   "execution_count": 20,
   "metadata": {},
   "outputs": [],
   "source": [
    "# set no_data from -1 to 0\n",
    "dist_alerts = np.where(dist_alerts == -1, 0, dist_alerts)\n",
    "\n",
    "# Extract confidence level (first digit)\n",
    "dist_confidence_levels = dist_alerts // 10000\n",
    "dist_high_conf = np.where(dist_confidence_levels == 3, 1, 0)\n",
    "dist_low_conf = np.where(dist_confidence_levels == 2, 1, 0)\n",
    "\n",
    "# Extract Julian date (remaining digits)\n",
    "dist_julian_date = dist_alerts % 10000 \n",
    "\n",
    "# create geometry_mask to mask dist alerts by aoi geometry\n",
    "aoi_mask = geometry_mask(\n",
    "    [aoi.geometry], invert=True, transform=win_affine, out_shape=dist_alerts.shape\n",
    ")\n",
    "\n",
    "# dist_alert_confidence level maskings\n",
    "# anything outside the AOI becomes zero\n",
    "dist_high_conf_aoi = aoi_mask * dist_high_conf * pixel_area_ha\n",
    "dist_low_conf_aoi = aoi_mask * dist_low_conf * pixel_area_ha\n",
    "dist_julian_date_aoi = aoi_mask * dist_julian_date\n",
    "\n",
    "# create a dataframe of analysis results\n",
    "high_conf_flat = dist_high_conf_aoi.flatten()\n",
    "low_conf_flat = dist_low_conf_aoi.flatten()\n",
    "julian_date_flat = dist_julian_date_aoi.flatten()"
   ]
  },
  {
   "cell_type": "code",
   "execution_count": 21,
   "metadata": {},
   "outputs": [],
   "source": [
    "# read and process contextual layer\n",
    "if contextual_layer:\n",
    "    with rio.Env(AWS_REQUEST_PAYER=\"requester\"):\n",
    "        with rio.open(contextual_layer.source_uri) as src:\n",
    "            contextual_data = src.read(1, window=window)\n",
    "    contextual_data_aoi = aoi_mask * contextual_data\n",
    "    contextual_flat = contextual_data_aoi.flatten()\n",
    "\n",
    "    df = pd.DataFrame({\n",
    "        \"dist_alert_date\": julian_date_flat,\n",
    "        contextual_layer.name: contextual_flat,\n",
    "        \"high_conf\": high_conf_flat,\n",
    "        \"low_conf\": low_conf_flat,\n",
    "    })\n",
    "    high_conf_results = df.groupby([contextual_layer.name, \"dist_alert_date\"])[\"high_conf\"].sum().reset_index()\n",
    "    low_conf_results = df.groupby([contextual_layer.name, \"dist_alert_date\"])[\"low_conf\"].sum().reset_index()\n",
    "\n",
    "    # map contextual layer names\n",
    "    high_conf_results[contextual_layer.column_name] = high_conf_results[contextual_layer.name].map(contextual_layer.classes)\n",
    "    low_conf_results[contextual_layer.column_name] = low_conf_results[contextual_layer.name].map(contextual_layer.classes)\n",
    "else:\n",
    "    df = pd.DataFrame(\n",
    "        {\n",
    "            \"dist_alert_date\": julian_date_flat,\n",
    "            \"high_conf\": high_conf_flat,\n",
    "            \"low_conf\": low_conf_flat,\n",
    "        }\n",
    "    )\n",
    "    high_conf_results = df.groupby(\"dist_alert_date\")[\"high_conf\"].sum().reset_index()\n",
    "    low_conf_results = df.groupby(\"dist_alert_date\")[\"low_conf\"].sum().reset_index()"
   ]
  },
  {
   "cell_type": "code",
   "execution_count": 36,
   "metadata": {},
   "outputs": [
    {
     "data": {
      "text/plain": [
       "np.uint64(0)"
      ]
     },
     "execution_count": 36,
     "metadata": {},
     "output_type": "execute_result"
    }
   ],
   "source": [
    "contextual_data.sum()"
   ]
  },
  {
   "cell_type": "code",
   "execution_count": 23,
   "metadata": {},
   "outputs": [],
   "source": [
    "# set dist_alert_confidence levels and GADM IDs\n",
    "high_conf_results[\"dist_alert_confidence\"] = \"high\"\n",
    "high_conf_results[\"country\"] = 76\n",
    "high_conf_results[\"region\"] = 20\n",
    "high_conf_results[\"subregion\"] = (\n",
    "    150  # placeholder for subregion (adm2) since we are running on an adm1 AOI\n",
    ")\n",
    "low_conf_results[\"dist_alert_confidence\"] = \"low\"\n",
    "low_conf_results[\"country\"] = 76\n",
    "low_conf_results[\"region\"] = 20\n",
    "low_conf_results[\"subregion\"] = (\n",
    "    150  # placeholder for subregion (adm2) since we are running on an adm1 AOI\n",
    ")\n",
    "\n",
    "# rename high_conf to value\n",
    "high_conf_results.rename(columns={\"high_conf\": \"area_ha\"}, inplace=True)\n",
    "low_conf_results.rename(columns={\"low_conf\": \"area_ha\"}, inplace=True)\n",
    "\n",
    "\n",
    "# reorder columns to country, region, subregion, contextual layer, dist_alert_date, confidence, value\n",
    "if contextual_layer:\n",
    "    column_order = [\"country\", \"region\", \"subregion\", \"dist_alert_date\", \"dist_alert_confidence\", \"area_ha\", contextual_layer.column_name]        \n",
    "else:\n",
    "    column_order = [\"country\", \"region\", \"subregion\", \"dist_alert_date\", \"dist_alert_confidence\", \"area_ha\"]\n",
    "high_conf_results = high_conf_results[column_order]\n",
    "low_conf_results = low_conf_results[column_order]"
   ]
  },
  {
   "cell_type": "code",
   "execution_count": 24,
   "metadata": {},
   "outputs": [],
   "source": [
    "# concatenate dist_alert_confidence dfs into one validation df\n",
    "results = pd.concat([high_conf_results, low_conf_results], ignore_index=True)\n",
    "\n",
    "# drop rows where dist_alert_date is zero\n",
    "results = results[results[\"dist_alert_date\"] != 0]\n",
    "\n",
    "results.rename(columns={\"confidence\": \"dist_alert_confidence\"}, inplace=True)\n",
    "results[\"dist_alert_date\"] = results.sort_values(\n",
    "    by=\"dist_alert_date\"\n",
    ").dist_alert_date.apply(lambda x: date(2020, 12, 31) + relativedelta(days=x))\n",
    "results[\"country\"] = results[\"country\"].apply(\n",
    "    lambda x: numeric_to_alpha3.get(x, None)\n",
    ")\n",
    "\n",
    "result_df = pd.DataFrame(results)"
   ]
  },
  {
   "cell_type": "code",
   "execution_count": 25,
   "metadata": {},
   "outputs": [
    {
     "data": {
      "application/vnd.microsoft.datawrangler.viewer.v0+json": {
       "columns": [
        {
         "name": "index",
         "rawType": "int64",
         "type": "integer"
        },
        {
         "name": "country",
         "rawType": "object",
         "type": "string"
        },
        {
         "name": "region",
         "rawType": "int64",
         "type": "integer"
        },
        {
         "name": "subregion",
         "rawType": "int64",
         "type": "integer"
        },
        {
         "name": "dist_alert_date",
         "rawType": "object",
         "type": "unknown"
        },
        {
         "name": "dist_alert_confidence",
         "rawType": "object",
         "type": "string"
        },
        {
         "name": "area_ha",
         "rawType": "float64",
         "type": "float"
        },
        {
         "name": "driver",
         "rawType": "object",
         "type": "unknown"
        }
       ],
       "ref": "ab02c03b-64ad-4dff-8cd4-38f8474119aa",
       "rows": [
        [
         "1",
         "BRA",
         "20",
         "150",
         "2023-02-01",
         "high",
         "0.15293700993061066",
         null
        ],
        [
         "2",
         "BRA",
         "20",
         "150",
         "2023-02-06",
         "high",
         "0.0",
         null
        ],
        [
         "3",
         "BRA",
         "20",
         "150",
         "2023-02-26",
         "high",
         "0.4590888023376465",
         null
        ],
        [
         "4",
         "BRA",
         "20",
         "150",
         "2023-03-18",
         "high",
         "1.5293024182319641",
         null
        ],
        [
         "5",
         "BRA",
         "20",
         "150",
         "2023-04-03",
         "high",
         "0.9178272411227226",
         null
        ],
        [
         "6",
         "BRA",
         "20",
         "150",
         "2023-04-07",
         "high",
         "0.07651946693658829",
         null
        ],
        [
         "7",
         "BRA",
         "20",
         "150",
         "2023-04-11",
         "high",
         "0.45870210230350494",
         null
        ],
        [
         "8",
         "BRA",
         "20",
         "150",
         "2023-04-12",
         "high",
         "0.0",
         null
        ],
        [
         "9",
         "BRA",
         "20",
         "150",
         "2023-04-17",
         "high",
         "0.688102699816227",
         null
        ],
        [
         "10",
         "BRA",
         "20",
         "150",
         "2023-04-19",
         "high",
         "0.4587281495332718",
         null
        ],
        [
         "11",
         "BRA",
         "20",
         "150",
         "2023-04-22",
         "high",
         "2.7527472972869873",
         null
        ],
        [
         "12",
         "BRA",
         "20",
         "150",
         "2023-04-27",
         "high",
         "0.15289583802223206",
         null
        ],
        [
         "13",
         "BRA",
         "20",
         "150",
         "2023-05-02",
         "high",
         "1.4530010670423508",
         null
        ],
        [
         "14",
         "BRA",
         "20",
         "150",
         "2023-05-05",
         "high",
         "0.3058534115552902",
         null
        ],
        [
         "15",
         "BRA",
         "20",
         "150",
         "2023-05-07",
         "high",
         "1.1469619199633598",
         null
        ],
        [
         "16",
         "BRA",
         "20",
         "150",
         "2023-05-21",
         "high",
         "0.9178527742624283",
         null
        ],
        [
         "17",
         "BRA",
         "20",
         "150",
         "2023-06-01",
         "high",
         "0.1529167890548706",
         null
        ],
        [
         "18",
         "BRA",
         "20",
         "150",
         "2023-06-06",
         "high",
         "2.0642206892371178",
         null
        ],
        [
         "19",
         "BRA",
         "20",
         "150",
         "2023-06-14",
         "high",
         "0.9173609614372253",
         null
        ],
        [
         "20",
         "BRA",
         "20",
         "150",
         "2023-06-16",
         "high",
         "0.38250236213207245",
         null
        ],
        [
         "21",
         "BRA",
         "20",
         "150",
         "2023-06-21",
         "high",
         "0.22939684987068176",
         null
        ],
        [
         "22",
         "BRA",
         "20",
         "150",
         "2023-06-22",
         "high",
         "0.45893242955207825",
         null
        ],
        [
         "23",
         "BRA",
         "20",
         "150",
         "2023-06-26",
         "high",
         "0.15299950540065765",
         null
        ],
        [
         "24",
         "BRA",
         "20",
         "150",
         "2023-07-11",
         "high",
         "0.5352084264159203",
         null
        ],
        [
         "25",
         "BRA",
         "20",
         "150",
         "2023-07-16",
         "high",
         "0.0",
         null
        ],
        [
         "26",
         "BRA",
         "20",
         "150",
         "2023-07-23",
         "high",
         "0.38276100158691406",
         null
        ],
        [
         "27",
         "BRA",
         "20",
         "150",
         "2023-07-29",
         "high",
         "0.15319159626960754",
         null
        ],
        [
         "28",
         "BRA",
         "20",
         "150",
         "2023-08-01",
         "high",
         "0.0",
         null
        ],
        [
         "29",
         "BRA",
         "20",
         "150",
         "2023-08-05",
         "high",
         "0.9940539300441742",
         null
        ],
        [
         "30",
         "BRA",
         "20",
         "150",
         "2023-08-15",
         "high",
         "5.048047862946987",
         null
        ],
        [
         "31",
         "BRA",
         "20",
         "150",
         "2023-08-16",
         "high",
         "0.5361745208501816",
         null
        ],
        [
         "32",
         "BRA",
         "20",
         "150",
         "2023-08-25",
         "high",
         "8.795604586601257",
         null
        ],
        [
         "33",
         "BRA",
         "20",
         "150",
         "2023-08-28",
         "high",
         "0.9949529320001602",
         null
        ],
        [
         "34",
         "BRA",
         "20",
         "150",
         "2023-08-30",
         "high",
         "7.799663797020912",
         null
        ],
        [
         "35",
         "BRA",
         "20",
         "150",
         "2023-09-01",
         "high",
         "0.0",
         null
        ],
        [
         "36",
         "BRA",
         "20",
         "150",
         "2023-09-02",
         "high",
         "1.6079401820898056",
         null
        ],
        [
         "37",
         "BRA",
         "20",
         "150",
         "2023-09-04",
         "high",
         "3.900021329522133",
         null
        ],
        [
         "38",
         "BRA",
         "20",
         "150",
         "2023-09-09",
         "high",
         "0.45921631902456284",
         null
        ],
        [
         "39",
         "BRA",
         "20",
         "150",
         "2023-09-10",
         "high",
         "0.3827037960290909",
         null
        ],
        [
         "40",
         "BRA",
         "20",
         "150",
         "2023-09-17",
         "high",
         "0.9959090501070023",
         null
        ],
        [
         "41",
         "BRA",
         "20",
         "150",
         "2023-09-19",
         "high",
         "0.0",
         null
        ],
        [
         "42",
         "BRA",
         "20",
         "150",
         "2023-09-24",
         "high",
         "2.2181822657585144",
         null
        ],
        [
         "43",
         "BRA",
         "20",
         "150",
         "2023-09-25",
         "high",
         "1.5313433781266212",
         null
        ],
        [
         "44",
         "BRA",
         "20",
         "150",
         "2023-09-26",
         "high",
         "4.134618707001209",
         null
        ],
        [
         "45",
         "BRA",
         "20",
         "150",
         "2023-09-27",
         "high",
         "8.503631919622421",
         null
        ],
        [
         "46",
         "BRA",
         "20",
         "150",
         "2023-09-29",
         "high",
         "21.48951780796051",
         null
        ],
        [
         "47",
         "BRA",
         "20",
         "150",
         "2023-10-02",
         "high",
         "1.302350901067257",
         null
        ],
        [
         "48",
         "BRA",
         "20",
         "150",
         "2023-10-03",
         "high",
         "0.5363236591219902",
         null
        ],
        [
         "49",
         "BRA",
         "20",
         "150",
         "2023-10-04",
         "high",
         "31.89743896573782",
         null
        ],
        [
         "50",
         "BRA",
         "20",
         "150",
         "2023-10-07",
         "high",
         "0.30628693848848343",
         null
        ]
       ],
       "shape": {
        "columns": 7,
        "rows": 1132
       }
      },
      "text/html": [
       "<div>\n",
       "<style scoped>\n",
       "    .dataframe tbody tr th:only-of-type {\n",
       "        vertical-align: middle;\n",
       "    }\n",
       "\n",
       "    .dataframe tbody tr th {\n",
       "        vertical-align: top;\n",
       "    }\n",
       "\n",
       "    .dataframe thead th {\n",
       "        text-align: right;\n",
       "    }\n",
       "</style>\n",
       "<table border=\"1\" class=\"dataframe\">\n",
       "  <thead>\n",
       "    <tr style=\"text-align: right;\">\n",
       "      <th></th>\n",
       "      <th>country</th>\n",
       "      <th>region</th>\n",
       "      <th>subregion</th>\n",
       "      <th>dist_alert_date</th>\n",
       "      <th>dist_alert_confidence</th>\n",
       "      <th>area_ha</th>\n",
       "      <th>driver</th>\n",
       "    </tr>\n",
       "  </thead>\n",
       "  <tbody>\n",
       "    <tr>\n",
       "      <th>1</th>\n",
       "      <td>BRA</td>\n",
       "      <td>20</td>\n",
       "      <td>150</td>\n",
       "      <td>2023-02-01</td>\n",
       "      <td>high</td>\n",
       "      <td>0.152937</td>\n",
       "      <td>NaN</td>\n",
       "    </tr>\n",
       "    <tr>\n",
       "      <th>2</th>\n",
       "      <td>BRA</td>\n",
       "      <td>20</td>\n",
       "      <td>150</td>\n",
       "      <td>2023-02-06</td>\n",
       "      <td>high</td>\n",
       "      <td>0.000000</td>\n",
       "      <td>NaN</td>\n",
       "    </tr>\n",
       "    <tr>\n",
       "      <th>3</th>\n",
       "      <td>BRA</td>\n",
       "      <td>20</td>\n",
       "      <td>150</td>\n",
       "      <td>2023-02-26</td>\n",
       "      <td>high</td>\n",
       "      <td>0.459089</td>\n",
       "      <td>NaN</td>\n",
       "    </tr>\n",
       "    <tr>\n",
       "      <th>4</th>\n",
       "      <td>BRA</td>\n",
       "      <td>20</td>\n",
       "      <td>150</td>\n",
       "      <td>2023-03-18</td>\n",
       "      <td>high</td>\n",
       "      <td>1.529302</td>\n",
       "      <td>NaN</td>\n",
       "    </tr>\n",
       "    <tr>\n",
       "      <th>5</th>\n",
       "      <td>BRA</td>\n",
       "      <td>20</td>\n",
       "      <td>150</td>\n",
       "      <td>2023-04-03</td>\n",
       "      <td>high</td>\n",
       "      <td>0.917827</td>\n",
       "      <td>NaN</td>\n",
       "    </tr>\n",
       "    <tr>\n",
       "      <th>...</th>\n",
       "      <td>...</td>\n",
       "      <td>...</td>\n",
       "      <td>...</td>\n",
       "      <td>...</td>\n",
       "      <td>...</td>\n",
       "      <td>...</td>\n",
       "      <td>...</td>\n",
       "    </tr>\n",
       "    <tr>\n",
       "      <th>1129</th>\n",
       "      <td>BRA</td>\n",
       "      <td>20</td>\n",
       "      <td>150</td>\n",
       "      <td>2025-09-26</td>\n",
       "      <td>low</td>\n",
       "      <td>57.772974</td>\n",
       "      <td>NaN</td>\n",
       "    </tr>\n",
       "    <tr>\n",
       "      <th>1130</th>\n",
       "      <td>BRA</td>\n",
       "      <td>20</td>\n",
       "      <td>150</td>\n",
       "      <td>2025-09-28</td>\n",
       "      <td>low</td>\n",
       "      <td>247.678257</td>\n",
       "      <td>NaN</td>\n",
       "    </tr>\n",
       "    <tr>\n",
       "      <th>1131</th>\n",
       "      <td>BRA</td>\n",
       "      <td>20</td>\n",
       "      <td>150</td>\n",
       "      <td>2025-09-29</td>\n",
       "      <td>low</td>\n",
       "      <td>9.794902</td>\n",
       "      <td>NaN</td>\n",
       "    </tr>\n",
       "    <tr>\n",
       "      <th>1132</th>\n",
       "      <td>BRA</td>\n",
       "      <td>20</td>\n",
       "      <td>150</td>\n",
       "      <td>2025-09-30</td>\n",
       "      <td>low</td>\n",
       "      <td>0.459539</td>\n",
       "      <td>NaN</td>\n",
       "    </tr>\n",
       "    <tr>\n",
       "      <th>1133</th>\n",
       "      <td>BRA</td>\n",
       "      <td>20</td>\n",
       "      <td>150</td>\n",
       "      <td>2025-10-01</td>\n",
       "      <td>low</td>\n",
       "      <td>0.076536</td>\n",
       "      <td>NaN</td>\n",
       "    </tr>\n",
       "  </tbody>\n",
       "</table>\n",
       "<p>1132 rows × 7 columns</p>\n",
       "</div>"
      ],
      "text/plain": [
       "     country  region  subregion dist_alert_date dist_alert_confidence  \\\n",
       "1        BRA      20        150      2023-02-01                  high   \n",
       "2        BRA      20        150      2023-02-06                  high   \n",
       "3        BRA      20        150      2023-02-26                  high   \n",
       "4        BRA      20        150      2023-03-18                  high   \n",
       "5        BRA      20        150      2023-04-03                  high   \n",
       "...      ...     ...        ...             ...                   ...   \n",
       "1129     BRA      20        150      2025-09-26                   low   \n",
       "1130     BRA      20        150      2025-09-28                   low   \n",
       "1131     BRA      20        150      2025-09-29                   low   \n",
       "1132     BRA      20        150      2025-09-30                   low   \n",
       "1133     BRA      20        150      2025-10-01                   low   \n",
       "\n",
       "         area_ha driver  \n",
       "1       0.152937    NaN  \n",
       "2       0.000000    NaN  \n",
       "3       0.459089    NaN  \n",
       "4       1.529302    NaN  \n",
       "5       0.917827    NaN  \n",
       "...          ...    ...  \n",
       "1129   57.772974    NaN  \n",
       "1130  247.678257    NaN  \n",
       "1131    9.794902    NaN  \n",
       "1132    0.459539    NaN  \n",
       "1133    0.076536    NaN  \n",
       "\n",
       "[1132 rows x 7 columns]"
      ]
     },
     "execution_count": 25,
     "metadata": {},
     "output_type": "execute_result"
    }
   ],
   "source": [
    "result_df"
   ]
  },
  {
   "cell_type": "code",
   "execution_count": 32,
   "metadata": {},
   "outputs": [],
   "source": [
    "zeno_df = pd.read_parquet(\"s3://gfw-data-lake/umd_glad_dist_alerts/v20251004/tabular/zonal_stats/gadm/gadm_adm2_dist_alerts_by_drivers.parquet\")\n",
    "zeno_aoi_df = zeno_df[(zeno_df[\"country\"] == \"BRA\") & (zeno_df[\"region\"] == 20)]"
   ]
  },
  {
   "cell_type": "code",
   "execution_count": 33,
   "metadata": {},
   "outputs": [
    {
     "data": {
      "application/vnd.microsoft.datawrangler.viewer.v0+json": {
       "columns": [
        {
         "name": "index",
         "rawType": "int64",
         "type": "integer"
        },
        {
         "name": "country",
         "rawType": "object",
         "type": "string"
        },
        {
         "name": "region",
         "rawType": "int64",
         "type": "integer"
        },
        {
         "name": "subregion",
         "rawType": "int64",
         "type": "integer"
        },
        {
         "name": "driver",
         "rawType": "object",
         "type": "string"
        },
        {
         "name": "dist_alert_date",
         "rawType": "object",
         "type": "unknown"
        },
        {
         "name": "dist_alert_confidence",
         "rawType": "object",
         "type": "string"
        },
        {
         "name": "area_ha",
         "rawType": "float64",
         "type": "float"
        }
       ],
       "ref": "e185c255-8f1c-4064-aad3-616183580a3b",
       "rows": [
        [
         "2881315",
         "BRA",
         "20",
         "1",
         "Unclassified",
         "2023-11-16",
         "high",
         "1.376165471971035"
        ],
        [
         "2881316",
         "BRA",
         "20",
         "1",
         "Unclassified",
         "2023-11-26",
         "high",
         "0.4587353840470314"
        ],
        [
         "2881317",
         "BRA",
         "20",
         "1",
         "Unclassified",
         "2023-12-01",
         "high",
         "0.6115892678499222"
        ],
        [
         "2881318",
         "BRA",
         "20",
         "1",
         "Unclassified",
         "2023-12-06",
         "high",
         "0.38228170573711395"
        ],
        [
         "2881319",
         "BRA",
         "20",
         "1",
         "Unclassified",
         "2023-12-14",
         "high",
         "0.3822355642914772"
        ]
       ],
       "shape": {
        "columns": 7,
        "rows": 5
       }
      },
      "text/html": [
       "<div>\n",
       "<style scoped>\n",
       "    .dataframe tbody tr th:only-of-type {\n",
       "        vertical-align: middle;\n",
       "    }\n",
       "\n",
       "    .dataframe tbody tr th {\n",
       "        vertical-align: top;\n",
       "    }\n",
       "\n",
       "    .dataframe thead th {\n",
       "        text-align: right;\n",
       "    }\n",
       "</style>\n",
       "<table border=\"1\" class=\"dataframe\">\n",
       "  <thead>\n",
       "    <tr style=\"text-align: right;\">\n",
       "      <th></th>\n",
       "      <th>country</th>\n",
       "      <th>region</th>\n",
       "      <th>subregion</th>\n",
       "      <th>driver</th>\n",
       "      <th>dist_alert_date</th>\n",
       "      <th>dist_alert_confidence</th>\n",
       "      <th>area_ha</th>\n",
       "    </tr>\n",
       "  </thead>\n",
       "  <tbody>\n",
       "    <tr>\n",
       "      <th>2881315</th>\n",
       "      <td>BRA</td>\n",
       "      <td>20</td>\n",
       "      <td>1</td>\n",
       "      <td>Unclassified</td>\n",
       "      <td>2023-11-16</td>\n",
       "      <td>high</td>\n",
       "      <td>1.376165</td>\n",
       "    </tr>\n",
       "    <tr>\n",
       "      <th>2881316</th>\n",
       "      <td>BRA</td>\n",
       "      <td>20</td>\n",
       "      <td>1</td>\n",
       "      <td>Unclassified</td>\n",
       "      <td>2023-11-26</td>\n",
       "      <td>high</td>\n",
       "      <td>0.458735</td>\n",
       "    </tr>\n",
       "    <tr>\n",
       "      <th>2881317</th>\n",
       "      <td>BRA</td>\n",
       "      <td>20</td>\n",
       "      <td>1</td>\n",
       "      <td>Unclassified</td>\n",
       "      <td>2023-12-01</td>\n",
       "      <td>high</td>\n",
       "      <td>0.611589</td>\n",
       "    </tr>\n",
       "    <tr>\n",
       "      <th>2881318</th>\n",
       "      <td>BRA</td>\n",
       "      <td>20</td>\n",
       "      <td>1</td>\n",
       "      <td>Unclassified</td>\n",
       "      <td>2023-12-06</td>\n",
       "      <td>high</td>\n",
       "      <td>0.382282</td>\n",
       "    </tr>\n",
       "    <tr>\n",
       "      <th>2881319</th>\n",
       "      <td>BRA</td>\n",
       "      <td>20</td>\n",
       "      <td>1</td>\n",
       "      <td>Unclassified</td>\n",
       "      <td>2023-12-14</td>\n",
       "      <td>high</td>\n",
       "      <td>0.382236</td>\n",
       "    </tr>\n",
       "  </tbody>\n",
       "</table>\n",
       "</div>"
      ],
      "text/plain": [
       "        country  region  subregion        driver dist_alert_date  \\\n",
       "2881315     BRA      20          1  Unclassified      2023-11-16   \n",
       "2881316     BRA      20          1  Unclassified      2023-11-26   \n",
       "2881317     BRA      20          1  Unclassified      2023-12-01   \n",
       "2881318     BRA      20          1  Unclassified      2023-12-06   \n",
       "2881319     BRA      20          1  Unclassified      2023-12-14   \n",
       "\n",
       "        dist_alert_confidence   area_ha  \n",
       "2881315                  high  1.376165  \n",
       "2881316                  high  0.458735  \n",
       "2881317                  high  0.611589  \n",
       "2881318                  high  0.382282  \n",
       "2881319                  high  0.382236  "
      ]
     },
     "execution_count": 33,
     "metadata": {},
     "output_type": "execute_result"
    }
   ],
   "source": [
    "zeno_aoi_df.head()"
   ]
  },
  {
   "cell_type": "code",
   "execution_count": 34,
   "metadata": {},
   "outputs": [
    {
     "data": {
      "application/vnd.microsoft.datawrangler.viewer.v0+json": {
       "columns": [
        {
         "name": "driver",
         "rawType": "object",
         "type": "string"
        },
        {
         "name": "area_ha",
         "rawType": "float64",
         "type": "float"
        }
       ],
       "ref": "74e17217-fd69-47e9-8f2f-f0812d5da73e",
       "rows": [
        [
         "Crop management",
         "5785.03668551892"
        ],
        [
         "Flooding",
         "5354.291066706181"
        ],
        [
         "Potential conversion",
         "2069.251425690949"
        ],
        [
         "Unclassified",
         "1784881.3072375655"
        ],
        [
         "Wildfire",
         "845.3123901039362"
        ]
       ],
       "shape": {
        "columns": 1,
        "rows": 5
       }
      },
      "text/plain": [
       "driver\n",
       "Crop management         5.785037e+03\n",
       "Flooding                5.354291e+03\n",
       "Potential conversion    2.069251e+03\n",
       "Unclassified            1.784881e+06\n",
       "Wildfire                8.453124e+02\n",
       "Name: area_ha, dtype: float64"
      ]
     },
     "execution_count": 34,
     "metadata": {},
     "output_type": "execute_result"
    }
   ],
   "source": [
    "zeno_aoi_df.groupby(\"driver\")[\"area_ha\"].sum()"
   ]
  },
  {
   "cell_type": "code",
   "execution_count": 35,
   "metadata": {},
   "outputs": [
    {
     "data": {
      "application/vnd.microsoft.datawrangler.viewer.v0+json": {
       "columns": [
        {
         "name": "driver",
         "rawType": "object",
         "type": "string"
        },
        {
         "name": "area_ha",
         "rawType": "float64",
         "type": "float"
        }
       ],
       "ref": "a898dadc-69aa-4c6e-8c6d-3a5086a318ed",
       "rows": [],
       "shape": {
        "columns": 1,
        "rows": 0
       }
      },
      "text/plain": [
       "Series([], Name: area_ha, dtype: float64)"
      ]
     },
     "execution_count": 35,
     "metadata": {},
     "output_type": "execute_result"
    }
   ],
   "source": [
    "result_df.groupby(\"driver\")[\"area_ha\"].sum()"
   ]
  },
  {
   "cell_type": "code",
   "execution_count": null,
   "metadata": {},
   "outputs": [],
   "source": []
  }
 ],
 "metadata": {
  "kernelspec": {
   "display_name": "zeno-data-analytics",
   "language": "python",
   "name": "python3"
  },
  "language_info": {
   "codemirror_mode": {
    "name": "ipython",
    "version": 3
   },
   "file_extension": ".py",
   "mimetype": "text/x-python",
   "name": "python",
   "nbconvert_exporter": "python",
   "pygments_lexer": "ipython3",
   "version": "3.13.5"
  }
 },
 "nbformat": 4,
 "nbformat_minor": 2
}
