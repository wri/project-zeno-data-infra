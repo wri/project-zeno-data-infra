{
 "cells": [
  {
   "cell_type": "markdown",
   "metadata": {},
   "source": [
    "### Rasterio-based validation of Zeno zonal statistics"
   ]
  },
  {
   "cell_type": "code",
   "execution_count": 1,
   "metadata": {},
   "outputs": [],
   "source": [
    "import numpy as np\n",
    "import pandas as pd\n",
    "import rasterio as rio\n",
    "import geopandas as gpd\n",
    "import pandera.pandas as pa\n",
    "from pandera.typing.pandas import Series\n",
    "from rasterio.windows import from_bounds\n",
    "from rasterio.features import geometry_mask\n",
    "from dateutil.relativedelta import relativedelta\n",
    "from datetime import date\n",
    "from datetime import date\n",
    "from pydantic import BaseModel\n",
    "from typing import Dict, Optional, Literal\n",
    "\n",
    "#from ..pipelines.disturbance.check_for_new_alerts import get_latest_version"
   ]
  },
  {
   "cell_type": "code",
   "execution_count": 2,
   "metadata": {},
   "outputs": [],
   "source": [
    "isos = [\n",
    "    'AFG', 'ALA', 'ALB', 'DZA', 'ASM', 'AND', 'AGO', 'AIA', 'ATA', 'ATG', 'ARG', 'ARM', 'ABW', 'AUS', 'AUT', 'AZE',\n",
    "    'BHS', 'BHR', 'BGD', 'BRB', 'BLR', 'BEL', 'BLZ', 'BEN', 'BMU', 'BTN', 'BOL', 'BES', 'BIH', 'BWA', 'BVT', 'BRA',\n",
    "    'IOT', 'BRN', 'BGR', 'BFA', 'BDI', 'CPV', 'KHM', 'CMR', 'CAN', 'CYM', 'CAF', 'TCD', 'CHL', 'CHN', 'CXR', 'CCK',\n",
    "    'COL', 'COM', 'COG', 'COD', 'COK', 'CRI', 'CIV', 'HRV', 'CUB', 'CUW', 'CYP', 'CZE', 'DNK', 'DJI', 'DMA', 'DOM',\n",
    "    'ECU', 'EGY', 'SLV', 'GNQ', 'ERI', 'EST', 'SWZ', 'ETH', 'FLK', 'FRO', 'FJI', 'FIN', 'FRA', 'GUF', 'PYF', 'ATF',\n",
    "    'GAB', 'GMB', 'GEO', 'DEU', 'GHA', 'GIB', 'GRC', 'GRL', 'GRD', 'GLP', 'GUM', 'GTM', 'GGY', 'GIN', 'GNB', 'GUY',\n",
    "    'HTI', 'HMD', 'VAT', 'HND', 'HKG', 'HUN', 'ISL', 'IND', 'IDN', 'IRN', 'IRQ', 'IRL', 'IMN', 'ISR', 'ITA', 'JAM',\n",
    "    'JPN', 'JEY', 'JOR', 'KAZ', 'KEN', 'KIR', 'PRK', 'KOR', 'KWT', 'KGZ', 'LAO', 'LVA', 'LBN', 'LSO', 'LBR', 'LBY',\n",
    "    'LIE', 'LTU', 'LUX', 'MAC', 'MDG', 'MWI', 'MYS', 'MDV', 'MLI', 'MLT', 'MHL', 'MTQ', 'MRT', 'MUS', 'MYT', 'MEX',\n",
    "    'FSM', 'MDA', 'MCO', 'MNG', 'MNE', 'MSR', 'MAR', 'MOZ', 'MMR', 'NAM', 'NRU', 'NPL', 'NLD', 'NCL', 'NZL', 'NIC',\n",
    "    'NER', 'NGA', 'NIU', 'NFK', 'MKD', 'MNP', 'NOR', 'OMN', 'PAK', 'PLW', 'PSE', 'PAN', 'PNG', 'PRY', 'PER', 'PHL',\n",
    "    'PCN', 'POL', 'PRT', 'PRI', 'QAT', 'REU', 'ROU', 'RUS', 'RWA', 'BLM', 'SHN', 'KNA', 'LCA', 'MAF', 'SPM', 'VCT',\n",
    "    'WSM', 'SMR', 'STP', 'SAU', 'SEN', 'SRB', 'SYC', 'SLE', 'SGP', 'SXM', 'SVK', 'SVN', 'SLB', 'SOM', 'ZAF', 'SGS',\n",
    "    'SSD', 'ESP', 'LKA', 'SDN', 'SUR', 'SJM', 'SWE', 'CHE', 'SYR', 'TWN', 'TJK', 'TZA', 'THA', 'TLS', 'TGO', 'TKL',\n",
    "    'TON', 'TTO', 'TUN', 'TUR', 'TKM', 'TCA', 'TUV', 'UGA', 'UKR', 'ARE', 'GBR', 'USA', 'UMI', 'URY', 'UZB', 'VUT',\n",
    "    'VEN', 'VNM', 'VGB', 'VIR', 'WLF', 'ESH', 'YEM', 'ZMB', 'ZWE'\n",
    "]\n",
    "\n",
    "numeric_to_alpha3 = {\n",
    "    4: 'AFG', 248: 'ALA', 8: 'ALB', 12: 'DZA', 16: 'ASM', 20: 'AND', 24: 'AGO', 660: 'AIA',\n",
    "    10: 'ATA', 28: 'ATG', 32: 'ARG', 51: 'ARM', 533: 'ABW', 36: 'AUS', 40: 'AUT', 31: 'AZE',\n",
    "    44: 'BHS', 48: 'BHR', 50: 'BGD', 52: 'BRB', 112: 'BLR', 56: 'BEL', 84: 'BLZ', 204: 'BEN',\n",
    "    60: 'BMU', 64: 'BTN', 68: 'BOL', 535: 'BES', 70: 'BIH', 72: 'BWA', 74: 'BVT', 76: 'BRA',\n",
    "    86: 'IOT', 96: 'BRN', 100: 'BGR', 854: 'BFA', 108: 'BDI', 132: 'CPV', 116: 'KHM', 120: 'CMR',\n",
    "    124: 'CAN', 136: 'CYM', 140: 'CAF', 148: 'TCD', 152: 'CHL', 156: 'CHN', 162: 'CXR', 166: 'CCK',\n",
    "    170: 'COL', 174: 'COM', 178: 'COG', 180: 'COD', 184: 'COK', 188: 'CRI', 384: 'CIV', 191: 'HRV',\n",
    "    192: 'CUB', 531: 'CUW', 196: 'CYP', 203: 'CZE', 208: 'DNK', 262: 'DJI', 212: 'DMA', 214: 'DOM',\n",
    "    218: 'ECU', 818: 'EGY', 222: 'SLV', 226: 'GNQ', 232: 'ERI', 233: 'EST', 748: 'SWZ', 231: 'ETH',\n",
    "    238: 'FLK', 234: 'FRO', 242: 'FJI', 246: 'FIN', 250: 'FRA', 254: 'GUF', 258: 'PYF', 260: 'ATF',\n",
    "    266: 'GAB', 270: 'GMB', 268: 'GEO', 276: 'DEU', 288: 'GHA', 292: 'GIB', 300: 'GRC', 304: 'GRL',\n",
    "    308: 'GRD', 312: 'GLP', 316: 'GUM', 320: 'GTM', 831: 'GGY', 324: 'GIN', 624: 'GNB', 328: 'GUY',\n",
    "    332: 'HTI', 334: 'HMD', 336: 'VAT', 340: 'HND', 344: 'HKG', 348: 'HUN', 352: 'ISL', 356: 'IND',\n",
    "    360: 'IDN', 364: 'IRN', 368: 'IRQ', 372: 'IRL', 833: 'IMN', 376: 'ISR', 380: 'ITA', 388: 'JAM',\n",
    "    392: 'JPN', 832: 'JEY', 400: 'JOR', 398: 'KAZ', 404: 'KEN', 296: 'KIR', 408: 'PRK', 410: 'KOR',\n",
    "    414: 'KWT', 417: 'KGZ', 418: 'LAO', 428: 'LVA', 422: 'LBN', 426: 'LSO', 430: 'LBR', 434: 'LBY',\n",
    "    438: 'LIE', 440: 'LTU', 442: 'LUX', 446: 'MAC', 450: 'MDG', 454: 'MWI', 458: 'MYS', 462: 'MDV',\n",
    "    466: 'MLI', 470: 'MLT', 584: 'MHL', 474: 'MTQ', 478: 'MRT', 480: 'MUS', 175: 'MYT', 484: 'MEX',\n",
    "    583: 'FSM', 498: 'MDA', 492: 'MCO', 496: 'MNG', 499: 'MNE', 500: 'MSR', 504: 'MAR', 508: 'MOZ',\n",
    "    104: 'MMR', 516: 'NAM', 520: 'NRU', 524: 'NPL', 528: 'NLD', 540: 'NCL', 554: 'NZL', 558: 'NIC',\n",
    "    562: 'NER', 566: 'NGA', 570: 'NIU', 574: 'NFK', 807: 'MKD', 580: 'MNP', 578: 'NOR', 512: 'OMN',\n",
    "    586: 'PAK', 585: 'PLW', 275: 'PSE', 591: 'PAN', 598: 'PNG', 600: 'PRY', 604: 'PER', 608: 'PHL',\n",
    "    612: 'PCN', 616: 'POL', 620: 'PRT', 630: 'PRI', 634: 'QAT', 638: 'REU', 642: 'ROU', 643: 'RUS',\n",
    "    646: 'RWA', 652: 'BLM', 654: 'SHN', 659: 'KNA', 662: 'LCA', 663: 'MAF', 666: 'SPM', 670: 'VCT',\n",
    "    882: 'WSM', 674: 'SMR', 678: 'STP', 682: 'SAU', 686: 'SEN', 688: 'SRB', 690: 'SYC', 694: 'SLE',\n",
    "    702: 'SGP', 534: 'SXM', 703: 'SVK', 705: 'SVN', 90: 'SLB', 706: 'SOM', 710: 'ZAF', 239: 'SGS',\n",
    "    728: 'SSD', 724: 'ESP', 144: 'LKA', 729: 'SDN', 740: 'SUR', 744: 'SJM', 752: 'SWE', 756: 'CHE',\n",
    "    760: 'SYR', 158: 'TWN', 762: 'TJK', 834: 'TZA', 764: 'THA', 626: 'TLS', 768: 'TGO', 772: 'TKL',\n",
    "    776: 'TON', 780: 'TTO', 788: 'TUN', 792: 'TUR', 795: 'TKM', 796: 'TCA', 798: 'TUV', 800: 'UGA',\n",
    "    804: 'UKR', 784: 'ARE', 826: 'GBR', 840: 'USA', 581: 'UMI', 858: 'URY', 860: 'UZB', 548: 'VUT',\n",
    "    862: 'VEN', 704: 'VNM', 92: 'VGB', 850: 'VIR', 876: 'WLF', 732: 'ESH', 887: 'YEM', 894: 'ZMB',\n",
    "    716: 'ZWE'\n",
    "}"
   ]
  },
  {
   "cell_type": "markdown",
   "metadata": {},
   "source": [
    "Provide an admin area shapefile and associate 10/40000 tile to generate validation stats"
   ]
  },
  {
   "cell_type": "code",
   "execution_count": null,
   "metadata": {},
   "outputs": [],
   "source": [
    "gdf = gpd.read_file(\"../pipelines/validation_statistics/br_rn.json\") # State of Rio Grande do Norte, Brazil\n",
    "aoi = gdf.iloc[0]\n",
    "aoi_tile = \"00N_040W\" # This AOI fits within a tile, but we should build VRTs so we can use any (resonably sized) AOI\n",
    "version = \"v20251004\"\n",
    "gadm41_iso = 76\n",
    "gadm41_region = 20\n",
    "gadm41_subregion = 150"
   ]
  },
  {
   "cell_type": "code",
   "execution_count": null,
   "metadata": {},
   "outputs": [],
   "source": [
    "prefect config set PREFECT_API_URL=http://127.0.0.1:4200/api\n",
    "pytest api/test/unit/domain/compute_engines/test_tree_cover_loss_compute_engine.py::test_get_tree_cover_loss_precalc_handler_happy_path"
   ]
  },
  {
   "cell_type": "code",
   "execution_count": 18,
   "metadata": {},
   "outputs": [],
   "source": [
    "class ContextualLayer(BaseModel):\n",
    "    name: Literal[\"sbtn_natural_lands\", \"grasslands\", \"drivers\", \"land_cover\"]\n",
    "    source_uri: str\n",
    "    column_name: str\n",
    "    classes: Dict[int, str]\n",
    "\n",
    "SBTN_NATURAL_LANDS = ContextualLayer(\n",
    "    name=\"sbtn_natural_lands\",\n",
    "    source_uri=\"s3://gfw-data-lake/sbtn_natural_lands_classification/v1.1/raster/epsg-4326/10/40000/class/geotiff/00N_040W.tif\",\n",
    "    column_name=\"natural_land_class\",\n",
    "    classes= {\n",
    "      2: \"Natural forests\",\n",
    "      3: \"Natural short vegetation\",\n",
    "      4: \"Natural water\",\n",
    "      5: \"Mangroves\",\n",
    "      6: \"Bare\",\n",
    "      7: \"Snow\",\n",
    "      8: \"Wetland natural forests\",\n",
    "      9: \"Natural peat forests\",\n",
    "      10: \"Wetland natural short vegetation\",\n",
    "      11: \"Natural peat short vegetation\",\n",
    "      12: \"Cropland\",\n",
    "      13: \"Built-up\",\n",
    "      14: \"Non-natural tree cover\",\n",
    "      15: \"Non-natural short vegetation\",\n",
    "      16: \"Non-natural water\",\n",
    "      17: \"Wetland non-natural tree cover\",\n",
    "      18: \"Non-natural peat tree cover\",\n",
    "      19: \"Wetland non-natural short vegetation\",\n",
    "      20: \"Non-natural peat short vegetation\",\n",
    "      21: \"Non-natural bare\",\n",
    "  }\n",
    ")"
   ]
  },
  {
   "cell_type": "code",
   "execution_count": 19,
   "metadata": {},
   "outputs": [],
   "source": [
    "contextual_layer = SBTN_NATURAL_LANDS"
   ]
  },
  {
   "cell_type": "code",
   "execution_count": 20,
   "metadata": {},
   "outputs": [],
   "source": [
    "# read dist alerts for AOI\n",
    "bounds = aoi.geometry.bounds\n",
    "with rio.Env(AWS_REQUEST_PAYER=\"requester\"):\n",
    "    with rio.open(\n",
    "        f\"s3://gfw-data-lake/umd_glad_dist_alerts/{version}/raster/epsg-4326/10/40000/default/gdal-geotiff/{aoi_tile}.tif\"\n",
    "    ) as src:\n",
    "        window = from_bounds(\n",
    "            bounds[0], bounds[1], bounds[2], bounds[3], src.transform\n",
    "        )\n",
    "        dist_alerts = src.read(1, window=window)\n",
    "        win_affine = src.window_transform(window)\n",
    "\n",
    "# read area for AOI\n",
    "with rio.Env(AWS_REQUEST_PAYER=\"requester\"):\n",
    "    with rio.open(\n",
    "        f\"s3://gfw-data-lake/umd_area_2013/v1.10/raster/epsg-4326/10/40000/area_m/gdal-geotiff/{aoi_tile}.tif\"\n",
    "    ) as src:\n",
    "        pixel_area__m = src.read(1, window=window)\n",
    "        pixel_area_ha = pixel_area__m / 10000"
   ]
  },
  {
   "cell_type": "code",
   "execution_count": 21,
   "metadata": {},
   "outputs": [],
   "source": [
    "# set no_data from -1 to 0\n",
    "dist_alerts = np.where(dist_alerts == -1, 0, dist_alerts)\n",
    "\n",
    "# Extract confidence level (first digit)\n",
    "dist_confidence_levels = dist_alerts // 10000\n",
    "dist_high_conf = np.where(dist_confidence_levels == 3, 1, 0)\n",
    "dist_low_conf = np.where(dist_confidence_levels == 2, 1, 0)\n",
    "\n",
    "# Extract Julian date (remaining digits)\n",
    "dist_julian_date = dist_alerts % 10000 \n",
    "\n",
    "# create geometry_mask to mask dist alerts by aoi geometry\n",
    "aoi_mask = geometry_mask(\n",
    "    [aoi.geometry], invert=True, transform=win_affine, out_shape=dist_alerts.shape\n",
    ")\n",
    "\n",
    "# dist_alert_confidence level maskings\n",
    "# anything outside the AOI becomes zero\n",
    "dist_high_conf_aoi = aoi_mask * dist_high_conf * pixel_area_ha\n",
    "dist_low_conf_aoi = aoi_mask * dist_low_conf * pixel_area_ha\n",
    "dist_julian_date_aoi = aoi_mask * dist_julian_date\n",
    "\n",
    "# create a dataframe of analysis results\n",
    "high_conf_flat = dist_high_conf_aoi.flatten()\n",
    "low_conf_flat = dist_low_conf_aoi.flatten()\n",
    "julian_date_flat = dist_julian_date_aoi.flatten()"
   ]
  },
  {
   "cell_type": "code",
   "execution_count": 22,
   "metadata": {},
   "outputs": [],
   "source": [
    "# read and process contextual layer\n",
    "if contextual_layer:\n",
    "    with rio.Env(AWS_REQUEST_PAYER=\"requester\"):\n",
    "        with rio.open(contextual_layer.source_uri) as src:\n",
    "            contextual_data = src.read(1, window=window)\n",
    "    contextual_data_aoi = aoi_mask * contextual_data\n",
    "    contextual_flat = contextual_data_aoi.flatten()\n",
    "\n",
    "    df = pd.DataFrame({\n",
    "        \"dist_alert_date\": julian_date_flat,\n",
    "        contextual_layer.name: contextual_flat,\n",
    "        \"high_conf\": high_conf_flat,\n",
    "        \"low_conf\": low_conf_flat,\n",
    "    })\n",
    "    high_conf_results = df.groupby([contextual_layer.name, \"dist_alert_date\"])[\"high_conf\"].sum().reset_index()\n",
    "    low_conf_results = df.groupby([contextual_layer.name, \"dist_alert_date\"])[\"low_conf\"].sum().reset_index()\n",
    "\n",
    "    # map contextual layer names\n",
    "    high_conf_results[contextual_layer.column_name] = high_conf_results[contextual_layer.name].map(contextual_layer.classes)\n",
    "    low_conf_results[contextual_layer.column_name] = low_conf_results[contextual_layer.name].map(contextual_layer.classes)\n",
    "else:\n",
    "    df = pd.DataFrame(\n",
    "        {\n",
    "            \"dist_alert_date\": julian_date_flat,\n",
    "            \"high_conf\": high_conf_flat,\n",
    "            \"low_conf\": low_conf_flat,\n",
    "        }\n",
    "    )\n",
    "    high_conf_results = df.groupby(\"dist_alert_date\")[\"high_conf\"].sum().reset_index()\n",
    "    low_conf_results = df.groupby(\"dist_alert_date\")[\"low_conf\"].sum().reset_index()"
   ]
  },
  {
   "cell_type": "code",
   "execution_count": 23,
   "metadata": {},
   "outputs": [],
   "source": [
    "# set dist_alert_confidence levels and GADM IDs\n",
    "high_conf_results[\"dist_alert_confidence\"] = \"high\"\n",
    "high_conf_results[\"country\"] = 76\n",
    "high_conf_results[\"region\"] = 20\n",
    "high_conf_results[\"subregion\"] = (\n",
    "    150  # placeholder for subregion (adm2) since we are running on an adm1 AOI\n",
    ")\n",
    "low_conf_results[\"dist_alert_confidence\"] = \"low\"\n",
    "low_conf_results[\"country\"] = 76\n",
    "low_conf_results[\"region\"] = 20\n",
    "low_conf_results[\"subregion\"] = (\n",
    "    150  # placeholder for subregion (adm2) since we are running on an adm1 AOI\n",
    ")\n",
    "\n",
    "# rename high_conf to value\n",
    "high_conf_results.rename(columns={\"high_conf\": \"area_ha\"}, inplace=True)\n",
    "low_conf_results.rename(columns={\"low_conf\": \"area_ha\"}, inplace=True)\n",
    "\n",
    "\n",
    "# reorder columns to country, region, subregion, contextual layer, dist_alert_date, confidence, value\n",
    "if contextual_layer:\n",
    "    column_order = [\"country\", \"region\", \"subregion\", \"dist_alert_date\", \"dist_alert_confidence\", \"area_ha\", contextual_layer.column_name]        \n",
    "else:\n",
    "    column_order = [\"country\", \"region\", \"subregion\", \"dist_alert_date\", \"dist_alert_confidence\", \"area_ha\"]\n",
    "high_conf_results = high_conf_results[column_order]\n",
    "low_conf_results = low_conf_results[column_order]"
   ]
  },
  {
   "cell_type": "code",
   "execution_count": 24,
   "metadata": {},
   "outputs": [],
   "source": [
    "# concatenate dist_alert_confidence dfs into one validation df\n",
    "results = pd.concat([high_conf_results, low_conf_results], ignore_index=True)\n",
    "\n",
    "# drop rows where dist_alert_date is zero\n",
    "results = results[results[\"dist_alert_date\"] != 0]\n",
    "\n",
    "results.rename(columns={\"confidence\": \"dist_alert_confidence\"}, inplace=True)\n",
    "results[\"dist_alert_date\"] = results.sort_values(\n",
    "    by=\"dist_alert_date\"\n",
    ").dist_alert_date.apply(lambda x: date(2020, 12, 31) + relativedelta(days=x))\n",
    "results[\"country\"] = results[\"country\"].apply(\n",
    "    lambda x: numeric_to_alpha3.get(x, None)\n",
    ")\n",
    "\n",
    "result_df = pd.DataFrame(results)"
   ]
  },
  {
   "cell_type": "code",
   "execution_count": 25,
   "metadata": {},
   "outputs": [
    {
     "data": {
      "application/vnd.microsoft.datawrangler.viewer.v0+json": {
       "columns": [
        {
         "name": "index",
         "rawType": "int64",
         "type": "integer"
        },
        {
         "name": "country",
         "rawType": "object",
         "type": "string"
        },
        {
         "name": "region",
         "rawType": "int64",
         "type": "integer"
        },
        {
         "name": "subregion",
         "rawType": "int64",
         "type": "integer"
        },
        {
         "name": "dist_alert_date",
         "rawType": "object",
         "type": "unknown"
        },
        {
         "name": "dist_alert_confidence",
         "rawType": "object",
         "type": "string"
        },
        {
         "name": "area_ha",
         "rawType": "float64",
         "type": "float"
        },
        {
         "name": "natural_land_class",
         "rawType": "object",
         "type": "unknown"
        }
       ],
       "ref": "64a814f1-3d7b-4031-8c87-96b3079b1367",
       "rows": [
        [
         "1",
         "BRA",
         "20",
         "150",
         "2023-10-27",
         "high",
         "0.15327738225460052",
         null
        ],
        [
         "2",
         "BRA",
         "20",
         "150",
         "2023-11-04",
         "high",
         "0.15327729284763336",
         null
        ],
        [
         "3",
         "BRA",
         "20",
         "150",
         "2023-12-30",
         "high",
         "0.15326900035142899",
         null
        ],
        [
         "4",
         "BRA",
         "20",
         "150",
         "2024-01-30",
         "high",
         "0.3065547049045563",
         null
        ],
        [
         "5",
         "BRA",
         "20",
         "150",
         "2024-04-28",
         "high",
         "0.45982444286346436",
         null
        ],
        [
         "6",
         "BRA",
         "20",
         "150",
         "2024-06-28",
         "high",
         "0.689745157957077",
         null
        ],
        [
         "7",
         "BRA",
         "20",
         "150",
         "2024-07-08",
         "high",
         "0.22991520166397095",
         null
        ],
        [
         "8",
         "BRA",
         "20",
         "150",
         "2024-07-09",
         "high",
         "0.3831935301423073",
         null
        ],
        [
         "9",
         "BRA",
         "20",
         "150",
         "2024-07-17",
         "high",
         "0.30655452609062195",
         null
        ],
        [
         "10",
         "BRA",
         "20",
         "150",
         "2024-07-28",
         "high",
         "0.15326497703790665",
         null
        ],
        [
         "11",
         "BRA",
         "20",
         "150",
         "2024-08-10",
         "high",
         "0.3831924572587013",
         null
        ],
        [
         "12",
         "BRA",
         "20",
         "150",
         "2024-08-17",
         "high",
         "0.1532660275697708",
         null
        ],
        [
         "13",
         "BRA",
         "20",
         "150",
         "2024-08-18",
         "high",
         "1.6860468536615372",
         null
        ],
        [
         "14",
         "BRA",
         "20",
         "150",
         "2024-08-26",
         "high",
         "0.07663848251104355",
         null
        ],
        [
         "15",
         "BRA",
         "20",
         "150",
         "2024-09-08",
         "high",
         "0.15316202491521835",
         null
        ],
        [
         "16",
         "BRA",
         "20",
         "150",
         "2024-09-11",
         "high",
         "0.5364614725112915",
         null
        ],
        [
         "17",
         "BRA",
         "20",
         "150",
         "2024-10-03",
         "high",
         "0.0",
         null
        ],
        [
         "18",
         "BRA",
         "20",
         "150",
         "2024-10-31",
         "high",
         "0.22991342842578888",
         null
        ],
        [
         "19",
         "BRA",
         "20",
         "150",
         "2024-11-14",
         "high",
         "0.0",
         null
        ],
        [
         "20",
         "BRA",
         "20",
         "150",
         "2024-11-22",
         "high",
         "0.6897443979978561",
         null
        ],
        [
         "21",
         "BRA",
         "20",
         "150",
         "2024-12-17",
         "high",
         "0.0",
         null
        ],
        [
         "22",
         "BRA",
         "20",
         "150",
         "2024-12-20",
         "high",
         "0.0",
         null
        ],
        [
         "23",
         "BRA",
         "20",
         "150",
         "2024-12-22",
         "high",
         "0.0",
         null
        ],
        [
         "24",
         "BRA",
         "20",
         "150",
         "2025-01-01",
         "high",
         "0.0",
         null
        ],
        [
         "25",
         "BRA",
         "20",
         "150",
         "2025-01-06",
         "high",
         "0.0",
         null
        ],
        [
         "26",
         "BRA",
         "20",
         "150",
         "2025-01-14",
         "high",
         "0.0",
         null
        ],
        [
         "27",
         "BRA",
         "20",
         "150",
         "2025-01-17",
         "high",
         "0.2299155667424202",
         null
        ],
        [
         "28",
         "BRA",
         "20",
         "150",
         "2025-01-19",
         "high",
         "0.07663674652576447",
         null
        ],
        [
         "29",
         "BRA",
         "20",
         "150",
         "2025-01-29",
         "high",
         "0.0",
         null
        ],
        [
         "30",
         "BRA",
         "20",
         "150",
         "2025-02-01",
         "high",
         "0.15332884341478348",
         null
        ],
        [
         "31",
         "BRA",
         "20",
         "150",
         "2025-02-02",
         "high",
         "0.07663857191801071",
         null
        ],
        [
         "32",
         "BRA",
         "20",
         "150",
         "2025-02-10",
         "high",
         "0.07665421813726425",
         null
        ],
        [
         "33",
         "BRA",
         "20",
         "150",
         "2025-03-20",
         "high",
         "0.0",
         null
        ],
        [
         "34",
         "BRA",
         "20",
         "150",
         "2025-03-25",
         "high",
         "0.07663998752832413",
         null
        ],
        [
         "35",
         "BRA",
         "20",
         "150",
         "2025-04-04",
         "high",
         "0.15330654382705688",
         null
        ],
        [
         "36",
         "BRA",
         "20",
         "150",
         "2025-04-14",
         "high",
         "0.383192740380764",
         null
        ],
        [
         "37",
         "BRA",
         "20",
         "150",
         "2025-04-15",
         "high",
         "0.15327288210391998",
         null
        ],
        [
         "38",
         "BRA",
         "20",
         "150",
         "2025-04-16",
         "high",
         "0.07663608342409134",
         null
        ],
        [
         "39",
         "BRA",
         "20",
         "150",
         "2025-04-19",
         "high",
         "0.30654942989349365",
         null
        ],
        [
         "40",
         "BRA",
         "20",
         "150",
         "2025-04-23",
         "high",
         "0.0",
         null
        ],
        [
         "41",
         "BRA",
         "20",
         "150",
         "2025-04-29",
         "high",
         "0.1532663181424141",
         null
        ],
        [
         "42",
         "BRA",
         "20",
         "150",
         "2025-04-30",
         "high",
         "0.07665421813726425",
         null
        ],
        [
         "43",
         "BRA",
         "20",
         "150",
         "2025-05-01",
         "high",
         "0.30654018372297287",
         null
        ],
        [
         "44",
         "BRA",
         "20",
         "150",
         "2025-05-02",
         "high",
         "0.0",
         null
        ],
        [
         "45",
         "BRA",
         "20",
         "150",
         "2025-05-03",
         "high",
         "0.0",
         null
        ],
        [
         "46",
         "BRA",
         "20",
         "150",
         "2025-05-04",
         "high",
         "0.07663851231336594",
         null
        ],
        [
         "47",
         "BRA",
         "20",
         "150",
         "2025-05-17",
         "high",
         "0.0",
         null
        ],
        [
         "48",
         "BRA",
         "20",
         "150",
         "2025-06-15",
         "high",
         "0.0",
         null
        ],
        [
         "49",
         "BRA",
         "20",
         "150",
         "2025-06-17",
         "high",
         "0.07665374130010605",
         null
        ],
        [
         "50",
         "BRA",
         "20",
         "150",
         "2025-06-27",
         "high",
         "0.0",
         null
        ]
       ],
       "shape": {
        "columns": 7,
        "rows": 10172
       }
      },
      "text/html": [
       "<div>\n",
       "<style scoped>\n",
       "    .dataframe tbody tr th:only-of-type {\n",
       "        vertical-align: middle;\n",
       "    }\n",
       "\n",
       "    .dataframe tbody tr th {\n",
       "        vertical-align: top;\n",
       "    }\n",
       "\n",
       "    .dataframe thead th {\n",
       "        text-align: right;\n",
       "    }\n",
       "</style>\n",
       "<table border=\"1\" class=\"dataframe\">\n",
       "  <thead>\n",
       "    <tr style=\"text-align: right;\">\n",
       "      <th></th>\n",
       "      <th>country</th>\n",
       "      <th>region</th>\n",
       "      <th>subregion</th>\n",
       "      <th>dist_alert_date</th>\n",
       "      <th>dist_alert_confidence</th>\n",
       "      <th>area_ha</th>\n",
       "      <th>natural_land_class</th>\n",
       "    </tr>\n",
       "  </thead>\n",
       "  <tbody>\n",
       "    <tr>\n",
       "      <th>1</th>\n",
       "      <td>BRA</td>\n",
       "      <td>20</td>\n",
       "      <td>150</td>\n",
       "      <td>2023-10-27</td>\n",
       "      <td>high</td>\n",
       "      <td>0.153277</td>\n",
       "      <td>NaN</td>\n",
       "    </tr>\n",
       "    <tr>\n",
       "      <th>2</th>\n",
       "      <td>BRA</td>\n",
       "      <td>20</td>\n",
       "      <td>150</td>\n",
       "      <td>2023-11-04</td>\n",
       "      <td>high</td>\n",
       "      <td>0.153277</td>\n",
       "      <td>NaN</td>\n",
       "    </tr>\n",
       "    <tr>\n",
       "      <th>3</th>\n",
       "      <td>BRA</td>\n",
       "      <td>20</td>\n",
       "      <td>150</td>\n",
       "      <td>2023-12-30</td>\n",
       "      <td>high</td>\n",
       "      <td>0.153269</td>\n",
       "      <td>NaN</td>\n",
       "    </tr>\n",
       "    <tr>\n",
       "      <th>4</th>\n",
       "      <td>BRA</td>\n",
       "      <td>20</td>\n",
       "      <td>150</td>\n",
       "      <td>2024-01-30</td>\n",
       "      <td>high</td>\n",
       "      <td>0.306555</td>\n",
       "      <td>NaN</td>\n",
       "    </tr>\n",
       "    <tr>\n",
       "      <th>5</th>\n",
       "      <td>BRA</td>\n",
       "      <td>20</td>\n",
       "      <td>150</td>\n",
       "      <td>2024-04-28</td>\n",
       "      <td>high</td>\n",
       "      <td>0.459824</td>\n",
       "      <td>NaN</td>\n",
       "    </tr>\n",
       "    <tr>\n",
       "      <th>...</th>\n",
       "      <td>...</td>\n",
       "      <td>...</td>\n",
       "      <td>...</td>\n",
       "      <td>...</td>\n",
       "      <td>...</td>\n",
       "      <td>...</td>\n",
       "      <td>...</td>\n",
       "    </tr>\n",
       "    <tr>\n",
       "      <th>10201</th>\n",
       "      <td>BRA</td>\n",
       "      <td>20</td>\n",
       "      <td>150</td>\n",
       "      <td>2025-09-13</td>\n",
       "      <td>low</td>\n",
       "      <td>0.229855</td>\n",
       "      <td>Non-natural bare</td>\n",
       "    </tr>\n",
       "    <tr>\n",
       "      <th>10202</th>\n",
       "      <td>BRA</td>\n",
       "      <td>20</td>\n",
       "      <td>150</td>\n",
       "      <td>2025-09-14</td>\n",
       "      <td>low</td>\n",
       "      <td>0.459460</td>\n",
       "      <td>Non-natural bare</td>\n",
       "    </tr>\n",
       "    <tr>\n",
       "      <th>10203</th>\n",
       "      <td>BRA</td>\n",
       "      <td>20</td>\n",
       "      <td>150</td>\n",
       "      <td>2025-09-16</td>\n",
       "      <td>low</td>\n",
       "      <td>0.229595</td>\n",
       "      <td>Non-natural bare</td>\n",
       "    </tr>\n",
       "    <tr>\n",
       "      <th>10204</th>\n",
       "      <td>BRA</td>\n",
       "      <td>20</td>\n",
       "      <td>150</td>\n",
       "      <td>2025-09-21</td>\n",
       "      <td>low</td>\n",
       "      <td>0.305974</td>\n",
       "      <td>Non-natural bare</td>\n",
       "    </tr>\n",
       "    <tr>\n",
       "      <th>10205</th>\n",
       "      <td>BRA</td>\n",
       "      <td>20</td>\n",
       "      <td>150</td>\n",
       "      <td>2025-09-28</td>\n",
       "      <td>low</td>\n",
       "      <td>0.076510</td>\n",
       "      <td>Non-natural bare</td>\n",
       "    </tr>\n",
       "  </tbody>\n",
       "</table>\n",
       "<p>10172 rows × 7 columns</p>\n",
       "</div>"
      ],
      "text/plain": [
       "      country  region  subregion dist_alert_date dist_alert_confidence  \\\n",
       "1         BRA      20        150      2023-10-27                  high   \n",
       "2         BRA      20        150      2023-11-04                  high   \n",
       "3         BRA      20        150      2023-12-30                  high   \n",
       "4         BRA      20        150      2024-01-30                  high   \n",
       "5         BRA      20        150      2024-04-28                  high   \n",
       "...       ...     ...        ...             ...                   ...   \n",
       "10201     BRA      20        150      2025-09-13                   low   \n",
       "10202     BRA      20        150      2025-09-14                   low   \n",
       "10203     BRA      20        150      2025-09-16                   low   \n",
       "10204     BRA      20        150      2025-09-21                   low   \n",
       "10205     BRA      20        150      2025-09-28                   low   \n",
       "\n",
       "        area_ha natural_land_class  \n",
       "1      0.153277                NaN  \n",
       "2      0.153277                NaN  \n",
       "3      0.153269                NaN  \n",
       "4      0.306555                NaN  \n",
       "5      0.459824                NaN  \n",
       "...         ...                ...  \n",
       "10201  0.229855   Non-natural bare  \n",
       "10202  0.459460   Non-natural bare  \n",
       "10203  0.229595   Non-natural bare  \n",
       "10204  0.305974   Non-natural bare  \n",
       "10205  0.076510   Non-natural bare  \n",
       "\n",
       "[10172 rows x 7 columns]"
      ]
     },
     "execution_count": 25,
     "metadata": {},
     "output_type": "execute_result"
    }
   ],
   "source": [
    "result_df"
   ]
  },
  {
   "cell_type": "code",
   "execution_count": 26,
   "metadata": {},
   "outputs": [
    {
     "data": {
      "application/vnd.microsoft.datawrangler.viewer.v0+json": {
       "columns": [
        {
         "name": "index",
         "rawType": "int64",
         "type": "integer"
        },
        {
         "name": "country",
         "rawType": "object",
         "type": "string"
        },
        {
         "name": "region",
         "rawType": "int64",
         "type": "integer"
        },
        {
         "name": "subregion",
         "rawType": "int64",
         "type": "integer"
        },
        {
         "name": "dist_alert_date",
         "rawType": "object",
         "type": "unknown"
        },
        {
         "name": "dist_alert_confidence",
         "rawType": "object",
         "type": "string"
        },
        {
         "name": "area_ha",
         "rawType": "float64",
         "type": "float"
        },
        {
         "name": "natural_land_class",
         "rawType": "object",
         "type": "unknown"
        }
       ],
       "ref": "9726415c-ff17-41c8-8f58-dfd0bccf3476",
       "rows": [
        [
         "1",
         "BRA",
         "20",
         "150",
         "2023-10-27",
         "high",
         "0.15327738225460052",
         null
        ],
        [
         "2",
         "BRA",
         "20",
         "150",
         "2023-11-04",
         "high",
         "0.15327729284763336",
         null
        ],
        [
         "3",
         "BRA",
         "20",
         "150",
         "2023-12-30",
         "high",
         "0.15326900035142899",
         null
        ],
        [
         "4",
         "BRA",
         "20",
         "150",
         "2024-01-30",
         "high",
         "0.3065547049045563",
         null
        ],
        [
         "5",
         "BRA",
         "20",
         "150",
         "2024-04-28",
         "high",
         "0.45982444286346436",
         null
        ],
        [
         "6",
         "BRA",
         "20",
         "150",
         "2024-06-28",
         "high",
         "0.689745157957077",
         null
        ],
        [
         "7",
         "BRA",
         "20",
         "150",
         "2024-07-08",
         "high",
         "0.22991520166397095",
         null
        ],
        [
         "8",
         "BRA",
         "20",
         "150",
         "2024-07-09",
         "high",
         "0.3831935301423073",
         null
        ],
        [
         "9",
         "BRA",
         "20",
         "150",
         "2024-07-17",
         "high",
         "0.30655452609062195",
         null
        ],
        [
         "10",
         "BRA",
         "20",
         "150",
         "2024-07-28",
         "high",
         "0.15326497703790665",
         null
        ],
        [
         "11",
         "BRA",
         "20",
         "150",
         "2024-08-10",
         "high",
         "0.3831924572587013",
         null
        ],
        [
         "12",
         "BRA",
         "20",
         "150",
         "2024-08-17",
         "high",
         "0.1532660275697708",
         null
        ],
        [
         "13",
         "BRA",
         "20",
         "150",
         "2024-08-18",
         "high",
         "1.6860468536615372",
         null
        ],
        [
         "14",
         "BRA",
         "20",
         "150",
         "2024-08-26",
         "high",
         "0.07663848251104355",
         null
        ],
        [
         "15",
         "BRA",
         "20",
         "150",
         "2024-09-08",
         "high",
         "0.15316202491521835",
         null
        ],
        [
         "16",
         "BRA",
         "20",
         "150",
         "2024-09-11",
         "high",
         "0.5364614725112915",
         null
        ],
        [
         "17",
         "BRA",
         "20",
         "150",
         "2024-10-03",
         "high",
         "0.0",
         null
        ],
        [
         "18",
         "BRA",
         "20",
         "150",
         "2024-10-31",
         "high",
         "0.22991342842578888",
         null
        ],
        [
         "19",
         "BRA",
         "20",
         "150",
         "2024-11-14",
         "high",
         "0.0",
         null
        ],
        [
         "20",
         "BRA",
         "20",
         "150",
         "2024-11-22",
         "high",
         "0.6897443979978561",
         null
        ],
        [
         "21",
         "BRA",
         "20",
         "150",
         "2024-12-17",
         "high",
         "0.0",
         null
        ],
        [
         "22",
         "BRA",
         "20",
         "150",
         "2024-12-20",
         "high",
         "0.0",
         null
        ],
        [
         "23",
         "BRA",
         "20",
         "150",
         "2024-12-22",
         "high",
         "0.0",
         null
        ],
        [
         "24",
         "BRA",
         "20",
         "150",
         "2025-01-01",
         "high",
         "0.0",
         null
        ],
        [
         "25",
         "BRA",
         "20",
         "150",
         "2025-01-06",
         "high",
         "0.0",
         null
        ],
        [
         "26",
         "BRA",
         "20",
         "150",
         "2025-01-14",
         "high",
         "0.0",
         null
        ],
        [
         "27",
         "BRA",
         "20",
         "150",
         "2025-01-17",
         "high",
         "0.2299155667424202",
         null
        ],
        [
         "28",
         "BRA",
         "20",
         "150",
         "2025-01-19",
         "high",
         "0.07663674652576447",
         null
        ],
        [
         "29",
         "BRA",
         "20",
         "150",
         "2025-01-29",
         "high",
         "0.0",
         null
        ],
        [
         "30",
         "BRA",
         "20",
         "150",
         "2025-02-01",
         "high",
         "0.15332884341478348",
         null
        ],
        [
         "31",
         "BRA",
         "20",
         "150",
         "2025-02-02",
         "high",
         "0.07663857191801071",
         null
        ],
        [
         "32",
         "BRA",
         "20",
         "150",
         "2025-02-10",
         "high",
         "0.07665421813726425",
         null
        ],
        [
         "33",
         "BRA",
         "20",
         "150",
         "2025-03-20",
         "high",
         "0.0",
         null
        ],
        [
         "34",
         "BRA",
         "20",
         "150",
         "2025-03-25",
         "high",
         "0.07663998752832413",
         null
        ],
        [
         "35",
         "BRA",
         "20",
         "150",
         "2025-04-04",
         "high",
         "0.15330654382705688",
         null
        ],
        [
         "36",
         "BRA",
         "20",
         "150",
         "2025-04-14",
         "high",
         "0.383192740380764",
         null
        ],
        [
         "37",
         "BRA",
         "20",
         "150",
         "2025-04-15",
         "high",
         "0.15327288210391998",
         null
        ],
        [
         "38",
         "BRA",
         "20",
         "150",
         "2025-04-16",
         "high",
         "0.07663608342409134",
         null
        ],
        [
         "39",
         "BRA",
         "20",
         "150",
         "2025-04-19",
         "high",
         "0.30654942989349365",
         null
        ],
        [
         "40",
         "BRA",
         "20",
         "150",
         "2025-04-23",
         "high",
         "0.0",
         null
        ],
        [
         "41",
         "BRA",
         "20",
         "150",
         "2025-04-29",
         "high",
         "0.1532663181424141",
         null
        ],
        [
         "42",
         "BRA",
         "20",
         "150",
         "2025-04-30",
         "high",
         "0.07665421813726425",
         null
        ],
        [
         "43",
         "BRA",
         "20",
         "150",
         "2025-05-01",
         "high",
         "0.30654018372297287",
         null
        ],
        [
         "44",
         "BRA",
         "20",
         "150",
         "2025-05-02",
         "high",
         "0.0",
         null
        ],
        [
         "45",
         "BRA",
         "20",
         "150",
         "2025-05-03",
         "high",
         "0.0",
         null
        ],
        [
         "46",
         "BRA",
         "20",
         "150",
         "2025-05-04",
         "high",
         "0.07663851231336594",
         null
        ],
        [
         "47",
         "BRA",
         "20",
         "150",
         "2025-05-17",
         "high",
         "0.0",
         null
        ],
        [
         "48",
         "BRA",
         "20",
         "150",
         "2025-06-15",
         "high",
         "0.0",
         null
        ],
        [
         "49",
         "BRA",
         "20",
         "150",
         "2025-06-17",
         "high",
         "0.07665374130010605",
         null
        ],
        [
         "50",
         "BRA",
         "20",
         "150",
         "2025-06-27",
         "high",
         "0.0",
         null
        ]
       ],
       "shape": {
        "columns": 7,
        "rows": 10172
       }
      },
      "text/html": [
       "<div>\n",
       "<style scoped>\n",
       "    .dataframe tbody tr th:only-of-type {\n",
       "        vertical-align: middle;\n",
       "    }\n",
       "\n",
       "    .dataframe tbody tr th {\n",
       "        vertical-align: top;\n",
       "    }\n",
       "\n",
       "    .dataframe thead th {\n",
       "        text-align: right;\n",
       "    }\n",
       "</style>\n",
       "<table border=\"1\" class=\"dataframe\">\n",
       "  <thead>\n",
       "    <tr style=\"text-align: right;\">\n",
       "      <th></th>\n",
       "      <th>country</th>\n",
       "      <th>region</th>\n",
       "      <th>subregion</th>\n",
       "      <th>dist_alert_date</th>\n",
       "      <th>dist_alert_confidence</th>\n",
       "      <th>area_ha</th>\n",
       "      <th>natural_land_class</th>\n",
       "    </tr>\n",
       "  </thead>\n",
       "  <tbody>\n",
       "    <tr>\n",
       "      <th>1</th>\n",
       "      <td>BRA</td>\n",
       "      <td>20</td>\n",
       "      <td>150</td>\n",
       "      <td>2023-10-27</td>\n",
       "      <td>high</td>\n",
       "      <td>0.153277</td>\n",
       "      <td>NaN</td>\n",
       "    </tr>\n",
       "    <tr>\n",
       "      <th>2</th>\n",
       "      <td>BRA</td>\n",
       "      <td>20</td>\n",
       "      <td>150</td>\n",
       "      <td>2023-11-04</td>\n",
       "      <td>high</td>\n",
       "      <td>0.153277</td>\n",
       "      <td>NaN</td>\n",
       "    </tr>\n",
       "    <tr>\n",
       "      <th>3</th>\n",
       "      <td>BRA</td>\n",
       "      <td>20</td>\n",
       "      <td>150</td>\n",
       "      <td>2023-12-30</td>\n",
       "      <td>high</td>\n",
       "      <td>0.153269</td>\n",
       "      <td>NaN</td>\n",
       "    </tr>\n",
       "    <tr>\n",
       "      <th>4</th>\n",
       "      <td>BRA</td>\n",
       "      <td>20</td>\n",
       "      <td>150</td>\n",
       "      <td>2024-01-30</td>\n",
       "      <td>high</td>\n",
       "      <td>0.306555</td>\n",
       "      <td>NaN</td>\n",
       "    </tr>\n",
       "    <tr>\n",
       "      <th>5</th>\n",
       "      <td>BRA</td>\n",
       "      <td>20</td>\n",
       "      <td>150</td>\n",
       "      <td>2024-04-28</td>\n",
       "      <td>high</td>\n",
       "      <td>0.459824</td>\n",
       "      <td>NaN</td>\n",
       "    </tr>\n",
       "    <tr>\n",
       "      <th>...</th>\n",
       "      <td>...</td>\n",
       "      <td>...</td>\n",
       "      <td>...</td>\n",
       "      <td>...</td>\n",
       "      <td>...</td>\n",
       "      <td>...</td>\n",
       "      <td>...</td>\n",
       "    </tr>\n",
       "    <tr>\n",
       "      <th>10201</th>\n",
       "      <td>BRA</td>\n",
       "      <td>20</td>\n",
       "      <td>150</td>\n",
       "      <td>2025-09-13</td>\n",
       "      <td>low</td>\n",
       "      <td>0.229855</td>\n",
       "      <td>Non-natural bare</td>\n",
       "    </tr>\n",
       "    <tr>\n",
       "      <th>10202</th>\n",
       "      <td>BRA</td>\n",
       "      <td>20</td>\n",
       "      <td>150</td>\n",
       "      <td>2025-09-14</td>\n",
       "      <td>low</td>\n",
       "      <td>0.459460</td>\n",
       "      <td>Non-natural bare</td>\n",
       "    </tr>\n",
       "    <tr>\n",
       "      <th>10203</th>\n",
       "      <td>BRA</td>\n",
       "      <td>20</td>\n",
       "      <td>150</td>\n",
       "      <td>2025-09-16</td>\n",
       "      <td>low</td>\n",
       "      <td>0.229595</td>\n",
       "      <td>Non-natural bare</td>\n",
       "    </tr>\n",
       "    <tr>\n",
       "      <th>10204</th>\n",
       "      <td>BRA</td>\n",
       "      <td>20</td>\n",
       "      <td>150</td>\n",
       "      <td>2025-09-21</td>\n",
       "      <td>low</td>\n",
       "      <td>0.305974</td>\n",
       "      <td>Non-natural bare</td>\n",
       "    </tr>\n",
       "    <tr>\n",
       "      <th>10205</th>\n",
       "      <td>BRA</td>\n",
       "      <td>20</td>\n",
       "      <td>150</td>\n",
       "      <td>2025-09-28</td>\n",
       "      <td>low</td>\n",
       "      <td>0.076510</td>\n",
       "      <td>Non-natural bare</td>\n",
       "    </tr>\n",
       "  </tbody>\n",
       "</table>\n",
       "<p>10172 rows × 7 columns</p>\n",
       "</div>"
      ],
      "text/plain": [
       "      country  region  subregion dist_alert_date dist_alert_confidence  \\\n",
       "1         BRA      20        150      2023-10-27                  high   \n",
       "2         BRA      20        150      2023-11-04                  high   \n",
       "3         BRA      20        150      2023-12-30                  high   \n",
       "4         BRA      20        150      2024-01-30                  high   \n",
       "5         BRA      20        150      2024-04-28                  high   \n",
       "...       ...     ...        ...             ...                   ...   \n",
       "10201     BRA      20        150      2025-09-13                   low   \n",
       "10202     BRA      20        150      2025-09-14                   low   \n",
       "10203     BRA      20        150      2025-09-16                   low   \n",
       "10204     BRA      20        150      2025-09-21                   low   \n",
       "10205     BRA      20        150      2025-09-28                   low   \n",
       "\n",
       "        area_ha natural_land_class  \n",
       "1      0.153277                NaN  \n",
       "2      0.153277                NaN  \n",
       "3      0.153269                NaN  \n",
       "4      0.306555                NaN  \n",
       "5      0.459824                NaN  \n",
       "...         ...                ...  \n",
       "10201  0.229855   Non-natural bare  \n",
       "10202  0.459460   Non-natural bare  \n",
       "10203  0.229595   Non-natural bare  \n",
       "10204  0.305974   Non-natural bare  \n",
       "10205  0.076510   Non-natural bare  \n",
       "\n",
       "[10172 rows x 7 columns]"
      ]
     },
     "execution_count": 26,
     "metadata": {},
     "output_type": "execute_result"
    }
   ],
   "source": [
    "result_df"
   ]
  },
  {
   "cell_type": "code",
   "execution_count": 27,
   "metadata": {},
   "outputs": [],
   "source": [
    "zeno_df = pd.read_parquet(\"s3://gfw-data-lake/umd_glad_dist_alerts/v20251004/tabular/zonal_stats/gadm/gadm_adm2_dist_alerts_by_natural_lands.parquet\")\n",
    "zeno_aoi_df = zeno_df[(zeno_df[\"country\"] == \"BRA\") & (zeno_df[\"region\"] == 20)]"
   ]
  },
  {
   "cell_type": "code",
   "execution_count": 28,
   "metadata": {},
   "outputs": [
    {
     "data": {
      "application/vnd.microsoft.datawrangler.viewer.v0+json": {
       "columns": [
        {
         "name": "index",
         "rawType": "int64",
         "type": "integer"
        },
        {
         "name": "country",
         "rawType": "object",
         "type": "string"
        },
        {
         "name": "region",
         "rawType": "int64",
         "type": "integer"
        },
        {
         "name": "subregion",
         "rawType": "int64",
         "type": "integer"
        },
        {
         "name": "natural_land_class",
         "rawType": "object",
         "type": "string"
        },
        {
         "name": "dist_alert_date",
         "rawType": "object",
         "type": "unknown"
        },
        {
         "name": "dist_alert_confidence",
         "rawType": "object",
         "type": "string"
        },
        {
         "name": "area_ha",
         "rawType": "float64",
         "type": "float"
        }
       ],
       "ref": "78b97999-f813-4f66-81b2-b0dba8255f8c",
       "rows": [
        [
         "6611432",
         "BRA",
         "20",
         "1",
         "Natural forests",
         "2024-08-02",
         "high",
         "0.3058613911271095"
        ],
        [
         "6611433",
         "BRA",
         "20",
         "1",
         "Natural forests",
         "2024-09-06",
         "high",
         "0.07647490501403809"
        ],
        [
         "6611434",
         "BRA",
         "20",
         "1",
         "Natural forests",
         "2024-09-16",
         "high",
         "0.15292305499315262"
        ],
        [
         "6611435",
         "BRA",
         "20",
         "1",
         "Natural forests",
         "2024-10-01",
         "high",
         "0.07648348063230515"
        ],
        [
         "6611436",
         "BRA",
         "20",
         "1",
         "Natural forests",
         "2024-11-14",
         "high",
         "0.2294103354215622"
        ],
        [
         "6611437",
         "BRA",
         "20",
         "1",
         "Natural forests",
         "2024-11-20",
         "high",
         "0.15291623026132584"
        ],
        [
         "6611438",
         "BRA",
         "20",
         "1",
         "Natural forests",
         "2024-11-22",
         "high",
         "0.0764559656381607"
        ],
        [
         "6611439",
         "BRA",
         "20",
         "1",
         "Natural forests",
         "2024-11-30",
         "low",
         "0.3822982907295227"
        ],
        [
         "6611440",
         "BRA",
         "20",
         "1",
         "Natural forests",
         "2024-11-30",
         "high",
         "0.5352238044142723"
        ],
        [
         "6611441",
         "BRA",
         "20",
         "1",
         "Natural forests",
         "2024-12-05",
         "high",
         "0.07648316025733948"
        ],
        [
         "6611442",
         "BRA",
         "20",
         "1",
         "Natural forests",
         "2024-12-16",
         "low",
         "12.083073325455189"
        ],
        [
         "6611443",
         "BRA",
         "20",
         "1",
         "Natural forests",
         "2024-12-16",
         "high",
         "23.32349969446659"
        ],
        [
         "6611444",
         "BRA",
         "20",
         "1",
         "Natural forests",
         "2024-12-20",
         "high",
         "0.45886705815792084"
        ],
        [
         "6611445",
         "BRA",
         "20",
         "1",
         "Natural forests",
         "2024-12-25",
         "low",
         "117.75779374688864"
        ],
        [
         "6611446",
         "BRA",
         "20",
         "1",
         "Natural forests",
         "2024-12-25",
         "high",
         "64.61894070357084"
        ],
        [
         "6611447",
         "BRA",
         "20",
         "1",
         "Natural forests",
         "2024-12-30",
         "low",
         "93.97493916004896"
        ],
        [
         "6611448",
         "BRA",
         "20",
         "1",
         "Natural forests",
         "2024-12-30",
         "high",
         "4.206147730350494"
        ],
        [
         "6611449",
         "BRA",
         "20",
         "1",
         "Natural forests",
         "2025-01-01",
         "low",
         "39.83705188333988"
        ],
        [
         "6611450",
         "BRA",
         "20",
         "1",
         "Natural forests",
         "2025-01-04",
         "low",
         "38.54172100126743"
        ],
        [
         "6611451",
         "BRA",
         "20",
         "1",
         "Natural forests",
         "2025-01-04",
         "high",
         "11.470785900950432"
        ],
        [
         "6611452",
         "BRA",
         "20",
         "1",
         "Natural forests",
         "2025-01-09",
         "low",
         "117.7636476457119"
        ],
        [
         "6611453",
         "BRA",
         "20",
         "1",
         "Natural forests",
         "2025-01-09",
         "high",
         "0.994251050055027"
        ],
        [
         "6611454",
         "BRA",
         "20",
         "1",
         "Natural forests",
         "2025-01-14",
         "low",
         "23.246876500546932"
        ],
        [
         "6611455",
         "BRA",
         "20",
         "1",
         "Natural forests",
         "2025-01-17",
         "low",
         "2.5237054005265236"
        ],
        [
         "6611456",
         "BRA",
         "20",
         "1",
         "Natural forests",
         "2025-01-17",
         "high",
         "0.07647749781608582"
        ],
        [
         "6611457",
         "BRA",
         "20",
         "1",
         "Natural forests",
         "2025-03-14",
         "high",
         "0.07647425681352615"
        ],
        [
         "6611458",
         "BRA",
         "20",
         "1",
         "Natural forests",
         "2025-03-20",
         "high",
         "0.0764775350689888"
        ],
        [
         "6611459",
         "BRA",
         "20",
         "1",
         "Natural forests",
         "2025-03-22",
         "high",
         "0.6117796674370766"
        ],
        [
         "6611460",
         "BRA",
         "20",
         "1",
         "Natural forests",
         "2025-03-27",
         "high",
         "0.07644098997116089"
        ],
        [
         "6611461",
         "BRA",
         "20",
         "1",
         "Natural forests",
         "2025-03-30",
         "low",
         "0.15294088423252106"
        ],
        [
         "6611462",
         "BRA",
         "20",
         "1",
         "Natural forests",
         "2025-03-30",
         "high",
         "22.481128752231598"
        ],
        [
         "6611463",
         "BRA",
         "20",
         "1",
         "Natural forests",
         "2025-04-04",
         "low",
         "0.22941552102565765"
        ],
        [
         "6611464",
         "BRA",
         "20",
         "1",
         "Natural forests",
         "2025-04-04",
         "high",
         "44.349580116569996"
        ],
        [
         "6611465",
         "BRA",
         "20",
         "1",
         "Natural forests",
         "2025-04-07",
         "low",
         "0.15292483568191528"
        ],
        [
         "6611466",
         "BRA",
         "20",
         "1",
         "Natural forests",
         "2025-04-07",
         "high",
         "0.7646567150950432"
        ],
        [
         "6611467",
         "BRA",
         "20",
         "1",
         "Natural forests",
         "2025-04-09",
         "low",
         "0.1529257595539093"
        ],
        [
         "6611468",
         "BRA",
         "20",
         "1",
         "Natural forests",
         "2025-04-09",
         "high",
         "64.68826235830784"
        ],
        [
         "6611469",
         "BRA",
         "20",
         "1",
         "Natural forests",
         "2025-04-14",
         "low",
         "0.15294883400201797"
        ],
        [
         "6611470",
         "BRA",
         "20",
         "1",
         "Natural forests",
         "2025-04-14",
         "high",
         "0.5352906510233879"
        ],
        [
         "6611471",
         "BRA",
         "20",
         "1",
         "Natural forests",
         "2025-04-15",
         "high",
         "0.9940605908632278"
        ],
        [
         "6611472",
         "BRA",
         "20",
         "1",
         "Natural forests",
         "2025-04-16",
         "low",
         "0.07645931094884872"
        ],
        [
         "6611473",
         "BRA",
         "20",
         "1",
         "Natural forests",
         "2025-04-16",
         "high",
         "84.64627286046743"
        ],
        [
         "6611474",
         "BRA",
         "20",
         "1",
         "Natural forests",
         "2025-04-19",
         "low",
         "0.382336862385273"
        ],
        [
         "6611475",
         "BRA",
         "20",
         "1",
         "Natural forests",
         "2025-04-19",
         "high",
         "39.91518950462341"
        ],
        [
         "6611476",
         "BRA",
         "20",
         "1",
         "Natural forests",
         "2025-04-23",
         "high",
         "0.6117200627923012"
        ],
        [
         "6611477",
         "BRA",
         "20",
         "1",
         "Natural forests",
         "2025-04-26",
         "high",
         "9.405307307839394"
        ],
        [
         "6611478",
         "BRA",
         "20",
         "1",
         "Natural forests",
         "2025-04-29",
         "high",
         "43.661509320139885"
        ],
        [
         "6611479",
         "BRA",
         "20",
         "1",
         "Natural forests",
         "2025-05-01",
         "low",
         "1.4528996348381042"
        ],
        [
         "6611480",
         "BRA",
         "20",
         "1",
         "Natural forests",
         "2025-05-01",
         "high",
         "45.726196601986885"
        ],
        [
         "6611481",
         "BRA",
         "20",
         "1",
         "Natural forests",
         "2025-05-04",
         "low",
         "1.070584811270237"
        ]
       ],
       "shape": {
        "columns": 7,
        "rows": 134205
       }
      },
      "text/html": [
       "<div>\n",
       "<style scoped>\n",
       "    .dataframe tbody tr th:only-of-type {\n",
       "        vertical-align: middle;\n",
       "    }\n",
       "\n",
       "    .dataframe tbody tr th {\n",
       "        vertical-align: top;\n",
       "    }\n",
       "\n",
       "    .dataframe thead th {\n",
       "        text-align: right;\n",
       "    }\n",
       "</style>\n",
       "<table border=\"1\" class=\"dataframe\">\n",
       "  <thead>\n",
       "    <tr style=\"text-align: right;\">\n",
       "      <th></th>\n",
       "      <th>country</th>\n",
       "      <th>region</th>\n",
       "      <th>subregion</th>\n",
       "      <th>natural_land_class</th>\n",
       "      <th>dist_alert_date</th>\n",
       "      <th>dist_alert_confidence</th>\n",
       "      <th>area_ha</th>\n",
       "    </tr>\n",
       "  </thead>\n",
       "  <tbody>\n",
       "    <tr>\n",
       "      <th>6611432</th>\n",
       "      <td>BRA</td>\n",
       "      <td>20</td>\n",
       "      <td>1</td>\n",
       "      <td>Natural forests</td>\n",
       "      <td>2024-08-02</td>\n",
       "      <td>high</td>\n",
       "      <td>0.305861</td>\n",
       "    </tr>\n",
       "    <tr>\n",
       "      <th>6611433</th>\n",
       "      <td>BRA</td>\n",
       "      <td>20</td>\n",
       "      <td>1</td>\n",
       "      <td>Natural forests</td>\n",
       "      <td>2024-09-06</td>\n",
       "      <td>high</td>\n",
       "      <td>0.076475</td>\n",
       "    </tr>\n",
       "    <tr>\n",
       "      <th>6611434</th>\n",
       "      <td>BRA</td>\n",
       "      <td>20</td>\n",
       "      <td>1</td>\n",
       "      <td>Natural forests</td>\n",
       "      <td>2024-09-16</td>\n",
       "      <td>high</td>\n",
       "      <td>0.152923</td>\n",
       "    </tr>\n",
       "    <tr>\n",
       "      <th>6611435</th>\n",
       "      <td>BRA</td>\n",
       "      <td>20</td>\n",
       "      <td>1</td>\n",
       "      <td>Natural forests</td>\n",
       "      <td>2024-10-01</td>\n",
       "      <td>high</td>\n",
       "      <td>0.076483</td>\n",
       "    </tr>\n",
       "    <tr>\n",
       "      <th>6611436</th>\n",
       "      <td>BRA</td>\n",
       "      <td>20</td>\n",
       "      <td>1</td>\n",
       "      <td>Natural forests</td>\n",
       "      <td>2024-11-14</td>\n",
       "      <td>high</td>\n",
       "      <td>0.229410</td>\n",
       "    </tr>\n",
       "    <tr>\n",
       "      <th>...</th>\n",
       "      <td>...</td>\n",
       "      <td>...</td>\n",
       "      <td>...</td>\n",
       "      <td>...</td>\n",
       "      <td>...</td>\n",
       "      <td>...</td>\n",
       "      <td>...</td>\n",
       "    </tr>\n",
       "    <tr>\n",
       "      <th>6745632</th>\n",
       "      <td>BRA</td>\n",
       "      <td>20</td>\n",
       "      <td>167</td>\n",
       "      <td>Built-up</td>\n",
       "      <td>2025-04-01</td>\n",
       "      <td>high</td>\n",
       "      <td>0.076477</td>\n",
       "    </tr>\n",
       "    <tr>\n",
       "      <th>6745633</th>\n",
       "      <td>BRA</td>\n",
       "      <td>20</td>\n",
       "      <td>167</td>\n",
       "      <td>Built-up</td>\n",
       "      <td>2025-04-11</td>\n",
       "      <td>high</td>\n",
       "      <td>0.076477</td>\n",
       "    </tr>\n",
       "    <tr>\n",
       "      <th>6745634</th>\n",
       "      <td>BRA</td>\n",
       "      <td>20</td>\n",
       "      <td>167</td>\n",
       "      <td>Built-up</td>\n",
       "      <td>2025-04-13</td>\n",
       "      <td>low</td>\n",
       "      <td>0.076477</td>\n",
       "    </tr>\n",
       "    <tr>\n",
       "      <th>6745635</th>\n",
       "      <td>BRA</td>\n",
       "      <td>20</td>\n",
       "      <td>167</td>\n",
       "      <td>Built-up</td>\n",
       "      <td>2025-07-15</td>\n",
       "      <td>low</td>\n",
       "      <td>0.076477</td>\n",
       "    </tr>\n",
       "    <tr>\n",
       "      <th>6745636</th>\n",
       "      <td>BRA</td>\n",
       "      <td>20</td>\n",
       "      <td>167</td>\n",
       "      <td>Built-up</td>\n",
       "      <td>2025-07-30</td>\n",
       "      <td>low</td>\n",
       "      <td>0.076477</td>\n",
       "    </tr>\n",
       "  </tbody>\n",
       "</table>\n",
       "<p>134205 rows × 7 columns</p>\n",
       "</div>"
      ],
      "text/plain": [
       "        country  region  subregion natural_land_class dist_alert_date  \\\n",
       "6611432     BRA      20          1    Natural forests      2024-08-02   \n",
       "6611433     BRA      20          1    Natural forests      2024-09-06   \n",
       "6611434     BRA      20          1    Natural forests      2024-09-16   \n",
       "6611435     BRA      20          1    Natural forests      2024-10-01   \n",
       "6611436     BRA      20          1    Natural forests      2024-11-14   \n",
       "...         ...     ...        ...                ...             ...   \n",
       "6745632     BRA      20        167           Built-up      2025-04-01   \n",
       "6745633     BRA      20        167           Built-up      2025-04-11   \n",
       "6745634     BRA      20        167           Built-up      2025-04-13   \n",
       "6745635     BRA      20        167           Built-up      2025-07-15   \n",
       "6745636     BRA      20        167           Built-up      2025-07-30   \n",
       "\n",
       "        dist_alert_confidence   area_ha  \n",
       "6611432                  high  0.305861  \n",
       "6611433                  high  0.076475  \n",
       "6611434                  high  0.152923  \n",
       "6611435                  high  0.076483  \n",
       "6611436                  high  0.229410  \n",
       "...                       ...       ...  \n",
       "6745632                  high  0.076477  \n",
       "6745633                  high  0.076477  \n",
       "6745634                   low  0.076477  \n",
       "6745635                   low  0.076477  \n",
       "6745636                   low  0.076477  \n",
       "\n",
       "[134205 rows x 7 columns]"
      ]
     },
     "execution_count": 28,
     "metadata": {},
     "output_type": "execute_result"
    }
   ],
   "source": [
    "zeno_aoi_df"
   ]
  },
  {
   "cell_type": "code",
   "execution_count": 29,
   "metadata": {},
   "outputs": [
    {
     "data": {
      "application/vnd.microsoft.datawrangler.viewer.v0+json": {
       "columns": [
        {
         "name": "natural_land_class",
         "rawType": "object",
         "type": "string"
        },
        {
         "name": "area_ha",
         "rawType": "float64",
         "type": "float"
        }
       ],
       "ref": "1622aa7d-c662-45c5-b813-7f9f7ce253d3",
       "rows": [
        [
         "Bare",
         "2915.5712322220206"
        ],
        [
         "Built-up",
         "4339.134439677"
        ],
        [
         "Cropland",
         "329905.7472707629"
        ],
        [
         "Mangroves",
         "323.0938695669174"
        ],
        [
         "Natural forests",
         "81653.8620672673"
        ],
        [
         "Natural peat forests",
         "81.32602023333311"
        ],
        [
         "Natural peat short vegetation",
         "1335.820914901793"
        ],
        [
         "Natural short vegetation",
         "787650.0411752537"
        ],
        [
         "Natural water",
         "6740.054993905127"
        ],
        [
         "Non-natural bare",
         "1425.1490040197968"
        ],
        [
         "Non-natural peat short vegetation",
         "351.88286454230547"
        ],
        [
         "Non-natural short vegetation",
         "576171.9432871193"
        ],
        [
         "Non-natural tree cover",
         "5554.398500032723"
        ],
        [
         "Non-natural water",
         "217.86406160145998"
        ],
        [
         "Unclassified",
         "16.932374447584152"
        ],
        [
         "Wetland natural short vegetation",
         "252.3767300322652"
        ]
       ],
       "shape": {
        "columns": 1,
        "rows": 16
       }
      },
      "text/plain": [
       "natural_land_class\n",
       "Bare                                   2915.571232\n",
       "Built-up                               4339.134440\n",
       "Cropland                             329905.747271\n",
       "Mangroves                               323.093870\n",
       "Natural forests                       81653.862067\n",
       "Natural peat forests                     81.326020\n",
       "Natural peat short vegetation          1335.820915\n",
       "Natural short vegetation             787650.041175\n",
       "Natural water                          6740.054994\n",
       "Non-natural bare                       1425.149004\n",
       "Non-natural peat short vegetation       351.882865\n",
       "Non-natural short vegetation         576171.943287\n",
       "Non-natural tree cover                 5554.398500\n",
       "Non-natural water                       217.864062\n",
       "Unclassified                             16.932374\n",
       "Wetland natural short vegetation        252.376730\n",
       "Name: area_ha, dtype: float64"
      ]
     },
     "execution_count": 29,
     "metadata": {},
     "output_type": "execute_result"
    }
   ],
   "source": [
    "zeno_aoi_df.groupby(\"natural_land_class\")[\"area_ha\"].sum()"
   ]
  },
  {
   "cell_type": "code",
   "execution_count": 30,
   "metadata": {},
   "outputs": [
    {
     "data": {
      "application/vnd.microsoft.datawrangler.viewer.v0+json": {
       "columns": [
        {
         "name": "natural_land_class",
         "rawType": "object",
         "type": "string"
        },
        {
         "name": "area_ha",
         "rawType": "float64",
         "type": "float"
        }
       ],
       "ref": "7693106a-f7bd-4e80-8625-a6bb6b859a64",
       "rows": [
        [
         "Bare",
         "2900.094285674393"
        ],
        [
         "Built-up",
         "4332.086178265512"
        ],
        [
         "Cropland",
         "329889.1430211291"
        ],
        [
         "Mangroves",
         "323.0172329619527"
        ],
        [
         "Natural forests",
         "81641.21899249405"
        ],
        [
         "Natural peat forests",
         "81.24946637451649"
        ],
        [
         "Natural peat short vegetation",
         "1335.820914901793"
        ],
        [
         "Natural short vegetation",
         "787505.7563282177"
        ],
        [
         "Natural water",
         "6738.447311446071"
        ],
        [
         "Non-natural bare",
         "1424.6894147098064"
        ],
        [
         "Non-natural peat short vegetation",
         "351.88286454230547"
        ],
        [
         "Non-natural short vegetation",
         "576112.9004796892"
        ],
        [
         "Non-natural tree cover",
         "5552.8674060329795"
        ],
        [
         "Non-natural water",
         "217.86406160145998"
        ],
        [
         "Wetland natural short vegetation",
         "252.3767300322652"
        ]
       ],
       "shape": {
        "columns": 1,
        "rows": 15
       }
      },
      "text/plain": [
       "natural_land_class\n",
       "Bare                                   2900.094286\n",
       "Built-up                               4332.086178\n",
       "Cropland                             329889.143021\n",
       "Mangroves                               323.017233\n",
       "Natural forests                       81641.218992\n",
       "Natural peat forests                     81.249466\n",
       "Natural peat short vegetation          1335.820915\n",
       "Natural short vegetation             787505.756328\n",
       "Natural water                          6738.447311\n",
       "Non-natural bare                       1424.689415\n",
       "Non-natural peat short vegetation       351.882865\n",
       "Non-natural short vegetation         576112.900480\n",
       "Non-natural tree cover                 5552.867406\n",
       "Non-natural water                       217.864062\n",
       "Wetland natural short vegetation        252.376730\n",
       "Name: area_ha, dtype: float64"
      ]
     },
     "execution_count": 30,
     "metadata": {},
     "output_type": "execute_result"
    }
   ],
   "source": [
    "result_df.groupby(\"natural_land_class\")[\"area_ha\"].sum()"
   ]
  },
  {
   "cell_type": "code",
   "execution_count": null,
   "metadata": {},
   "outputs": [],
   "source": []
  }
 ],
 "metadata": {
  "kernelspec": {
   "display_name": "zeno",
   "language": "python",
   "name": "python3"
  },
  "language_info": {
   "codemirror_mode": {
    "name": "ipython",
    "version": 3
   },
   "file_extension": ".py",
   "mimetype": "text/x-python",
   "name": "python",
   "nbconvert_exporter": "python",
   "pygments_lexer": "ipython3",
   "version": "3.12.10"
  }
 },
 "nbformat": 4,
 "nbformat_minor": 2
}
