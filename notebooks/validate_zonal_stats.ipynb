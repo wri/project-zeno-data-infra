{
 "cells": [
  {
   "cell_type": "markdown",
   "metadata": {},
   "source": [
    "### Rasterio-based validation of Zeno zonal statistics"
   ]
  },
  {
   "cell_type": "code",
   "execution_count": 38,
   "metadata": {},
   "outputs": [],
   "source": [
    "import numpy as np\n",
    "import pandas as pd\n",
    "import rasterio as rio\n",
    "import geopandas as gpd\n",
    "import pandera.pandas as pa\n",
    "from pandera.typing.pandas import Series\n",
    "from rasterio.windows import from_bounds\n",
    "from rasterio.features import geometry_mask\n",
    "from dateutil.relativedelta import relativedelta\n",
    "from datetime import date\n",
    "from datetime import date\n",
    "\n",
    "#from ..pipelines.disturbance.check_for_new_alerts import get_latest_version"
   ]
  },
  {
   "cell_type": "code",
   "execution_count": 40,
   "metadata": {},
   "outputs": [],
   "source": [
    "isos = [\n",
    "    'AFG', 'ALA', 'ALB', 'DZA', 'ASM', 'AND', 'AGO', 'AIA', 'ATA', 'ATG', 'ARG', 'ARM', 'ABW', 'AUS', 'AUT', 'AZE',\n",
    "    'BHS', 'BHR', 'BGD', 'BRB', 'BLR', 'BEL', 'BLZ', 'BEN', 'BMU', 'BTN', 'BOL', 'BES', 'BIH', 'BWA', 'BVT', 'BRA',\n",
    "    'IOT', 'BRN', 'BGR', 'BFA', 'BDI', 'CPV', 'KHM', 'CMR', 'CAN', 'CYM', 'CAF', 'TCD', 'CHL', 'CHN', 'CXR', 'CCK',\n",
    "    'COL', 'COM', 'COG', 'COD', 'COK', 'CRI', 'CIV', 'HRV', 'CUB', 'CUW', 'CYP', 'CZE', 'DNK', 'DJI', 'DMA', 'DOM',\n",
    "    'ECU', 'EGY', 'SLV', 'GNQ', 'ERI', 'EST', 'SWZ', 'ETH', 'FLK', 'FRO', 'FJI', 'FIN', 'FRA', 'GUF', 'PYF', 'ATF',\n",
    "    'GAB', 'GMB', 'GEO', 'DEU', 'GHA', 'GIB', 'GRC', 'GRL', 'GRD', 'GLP', 'GUM', 'GTM', 'GGY', 'GIN', 'GNB', 'GUY',\n",
    "    'HTI', 'HMD', 'VAT', 'HND', 'HKG', 'HUN', 'ISL', 'IND', 'IDN', 'IRN', 'IRQ', 'IRL', 'IMN', 'ISR', 'ITA', 'JAM',\n",
    "    'JPN', 'JEY', 'JOR', 'KAZ', 'KEN', 'KIR', 'PRK', 'KOR', 'KWT', 'KGZ', 'LAO', 'LVA', 'LBN', 'LSO', 'LBR', 'LBY',\n",
    "    'LIE', 'LTU', 'LUX', 'MAC', 'MDG', 'MWI', 'MYS', 'MDV', 'MLI', 'MLT', 'MHL', 'MTQ', 'MRT', 'MUS', 'MYT', 'MEX',\n",
    "    'FSM', 'MDA', 'MCO', 'MNG', 'MNE', 'MSR', 'MAR', 'MOZ', 'MMR', 'NAM', 'NRU', 'NPL', 'NLD', 'NCL', 'NZL', 'NIC',\n",
    "    'NER', 'NGA', 'NIU', 'NFK', 'MKD', 'MNP', 'NOR', 'OMN', 'PAK', 'PLW', 'PSE', 'PAN', 'PNG', 'PRY', 'PER', 'PHL',\n",
    "    'PCN', 'POL', 'PRT', 'PRI', 'QAT', 'REU', 'ROU', 'RUS', 'RWA', 'BLM', 'SHN', 'KNA', 'LCA', 'MAF', 'SPM', 'VCT',\n",
    "    'WSM', 'SMR', 'STP', 'SAU', 'SEN', 'SRB', 'SYC', 'SLE', 'SGP', 'SXM', 'SVK', 'SVN', 'SLB', 'SOM', 'ZAF', 'SGS',\n",
    "    'SSD', 'ESP', 'LKA', 'SDN', 'SUR', 'SJM', 'SWE', 'CHE', 'SYR', 'TWN', 'TJK', 'TZA', 'THA', 'TLS', 'TGO', 'TKL',\n",
    "    'TON', 'TTO', 'TUN', 'TUR', 'TKM', 'TCA', 'TUV', 'UGA', 'UKR', 'ARE', 'GBR', 'USA', 'UMI', 'URY', 'UZB', 'VUT',\n",
    "    'VEN', 'VNM', 'VGB', 'VIR', 'WLF', 'ESH', 'YEM', 'ZMB', 'ZWE'\n",
    "]\n",
    "\n",
    "numeric_to_alpha3 = {\n",
    "    4: 'AFG', 248: 'ALA', 8: 'ALB', 12: 'DZA', 16: 'ASM', 20: 'AND', 24: 'AGO', 660: 'AIA',\n",
    "    10: 'ATA', 28: 'ATG', 32: 'ARG', 51: 'ARM', 533: 'ABW', 36: 'AUS', 40: 'AUT', 31: 'AZE',\n",
    "    44: 'BHS', 48: 'BHR', 50: 'BGD', 52: 'BRB', 112: 'BLR', 56: 'BEL', 84: 'BLZ', 204: 'BEN',\n",
    "    60: 'BMU', 64: 'BTN', 68: 'BOL', 535: 'BES', 70: 'BIH', 72: 'BWA', 74: 'BVT', 76: 'BRA',\n",
    "    86: 'IOT', 96: 'BRN', 100: 'BGR', 854: 'BFA', 108: 'BDI', 132: 'CPV', 116: 'KHM', 120: 'CMR',\n",
    "    124: 'CAN', 136: 'CYM', 140: 'CAF', 148: 'TCD', 152: 'CHL', 156: 'CHN', 162: 'CXR', 166: 'CCK',\n",
    "    170: 'COL', 174: 'COM', 178: 'COG', 180: 'COD', 184: 'COK', 188: 'CRI', 384: 'CIV', 191: 'HRV',\n",
    "    192: 'CUB', 531: 'CUW', 196: 'CYP', 203: 'CZE', 208: 'DNK', 262: 'DJI', 212: 'DMA', 214: 'DOM',\n",
    "    218: 'ECU', 818: 'EGY', 222: 'SLV', 226: 'GNQ', 232: 'ERI', 233: 'EST', 748: 'SWZ', 231: 'ETH',\n",
    "    238: 'FLK', 234: 'FRO', 242: 'FJI', 246: 'FIN', 250: 'FRA', 254: 'GUF', 258: 'PYF', 260: 'ATF',\n",
    "    266: 'GAB', 270: 'GMB', 268: 'GEO', 276: 'DEU', 288: 'GHA', 292: 'GIB', 300: 'GRC', 304: 'GRL',\n",
    "    308: 'GRD', 312: 'GLP', 316: 'GUM', 320: 'GTM', 831: 'GGY', 324: 'GIN', 624: 'GNB', 328: 'GUY',\n",
    "    332: 'HTI', 334: 'HMD', 336: 'VAT', 340: 'HND', 344: 'HKG', 348: 'HUN', 352: 'ISL', 356: 'IND',\n",
    "    360: 'IDN', 364: 'IRN', 368: 'IRQ', 372: 'IRL', 833: 'IMN', 376: 'ISR', 380: 'ITA', 388: 'JAM',\n",
    "    392: 'JPN', 832: 'JEY', 400: 'JOR', 398: 'KAZ', 404: 'KEN', 296: 'KIR', 408: 'PRK', 410: 'KOR',\n",
    "    414: 'KWT', 417: 'KGZ', 418: 'LAO', 428: 'LVA', 422: 'LBN', 426: 'LSO', 430: 'LBR', 434: 'LBY',\n",
    "    438: 'LIE', 440: 'LTU', 442: 'LUX', 446: 'MAC', 450: 'MDG', 454: 'MWI', 458: 'MYS', 462: 'MDV',\n",
    "    466: 'MLI', 470: 'MLT', 584: 'MHL', 474: 'MTQ', 478: 'MRT', 480: 'MUS', 175: 'MYT', 484: 'MEX',\n",
    "    583: 'FSM', 498: 'MDA', 492: 'MCO', 496: 'MNG', 499: 'MNE', 500: 'MSR', 504: 'MAR', 508: 'MOZ',\n",
    "    104: 'MMR', 516: 'NAM', 520: 'NRU', 524: 'NPL', 528: 'NLD', 540: 'NCL', 554: 'NZL', 558: 'NIC',\n",
    "    562: 'NER', 566: 'NGA', 570: 'NIU', 574: 'NFK', 807: 'MKD', 580: 'MNP', 578: 'NOR', 512: 'OMN',\n",
    "    586: 'PAK', 585: 'PLW', 275: 'PSE', 591: 'PAN', 598: 'PNG', 600: 'PRY', 604: 'PER', 608: 'PHL',\n",
    "    612: 'PCN', 616: 'POL', 620: 'PRT', 630: 'PRI', 634: 'QAT', 638: 'REU', 642: 'ROU', 643: 'RUS',\n",
    "    646: 'RWA', 652: 'BLM', 654: 'SHN', 659: 'KNA', 662: 'LCA', 663: 'MAF', 666: 'SPM', 670: 'VCT',\n",
    "    882: 'WSM', 674: 'SMR', 678: 'STP', 682: 'SAU', 686: 'SEN', 688: 'SRB', 690: 'SYC', 694: 'SLE',\n",
    "    702: 'SGP', 534: 'SXM', 703: 'SVK', 705: 'SVN', 90: 'SLB', 706: 'SOM', 710: 'ZAF', 239: 'SGS',\n",
    "    728: 'SSD', 724: 'ESP', 144: 'LKA', 729: 'SDN', 740: 'SUR', 744: 'SJM', 752: 'SWE', 756: 'CHE',\n",
    "    760: 'SYR', 158: 'TWN', 762: 'TJK', 834: 'TZA', 764: 'THA', 626: 'TLS', 768: 'TGO', 772: 'TKL',\n",
    "    776: 'TON', 780: 'TTO', 788: 'TUN', 792: 'TUR', 795: 'TKM', 796: 'TCA', 798: 'TUV', 800: 'UGA',\n",
    "    804: 'UKR', 784: 'ARE', 826: 'GBR', 840: 'USA', 581: 'UMI', 858: 'URY', 860: 'UZB', 548: 'VUT',\n",
    "    862: 'VEN', 704: 'VNM', 92: 'VGB', 850: 'VIR', 876: 'WLF', 732: 'ESH', 887: 'YEM', 894: 'ZMB',\n",
    "    716: 'ZWE'\n",
    "}"
   ]
  },
  {
   "cell_type": "markdown",
   "metadata": {},
   "source": [
    "Provide an admin area shapefile and associate 10/40000 tile to generate validation stats"
   ]
  },
  {
   "cell_type": "code",
   "execution_count": 2,
   "metadata": {},
   "outputs": [],
   "source": [
    "gdf = gpd.read_file(\"../pipelines/validation_statistics/br_rn.json\") # State of Rio Grande do Norte, Brazil\n",
    "aoi = gdf.iloc[0]\n",
    "aoi_tile = \"00N_040W\" # This AOI fits within a tile, but we should build VRTs so we can use any (resonably sized) AOI\n",
    "#ersion = get_latest_version(\"umd_glad_dist_alerts\")\n",
    "gadm41_iso = 76\n",
    "gadm41_region = 20\n",
    "gadm41_subregion = 150"
   ]
  },
  {
   "cell_type": "code",
   "execution_count": 3,
   "metadata": {},
   "outputs": [],
   "source": [
    "bounds = aoi.geometry.bounds"
   ]
  },
  {
   "cell_type": "code",
   "execution_count": 5,
   "metadata": {},
   "outputs": [],
   "source": [
    "# read dist alerts\n",
    "with rio.open(f\"s3://gfw-data-lake/umd_glad_dist_alerts/v20250712/raster/epsg-4326/10/40000/currentweek/gdal-geotiff/{aoi_tile}.tif\") as src:\n",
    "    window = from_bounds(\n",
    "        bounds[0],\n",
    "        bounds[1],\n",
    "        bounds[2],\n",
    "        bounds[3],\n",
    "        src.transform\n",
    "    )\n",
    "    dist_alerts = src.read(1, window=window)\n",
    "    win_affine = src.window_transform(window)\n",
    "\n",
    "# set no_data from -1 to 0\n",
    "dist_alerts = np.where(dist_alerts == -1, 0, dist_alerts)\n",
    "\n",
    "# Extract confidence level (first digit)\n",
    "dist_confidence_levels = dist_alerts // 10000\n",
    "dist_high_conf = np.where(dist_confidence_levels == 3, 1, 0)\n",
    "dist_low_conf = np.where(dist_confidence_levels == 2, 1, 0)\n",
    "\n",
    "# Extract Julian date (remaining digits)\n",
    "dist_julian_date = dist_alerts % 10000 "
   ]
  },
  {
   "cell_type": "code",
   "execution_count": 5,
   "metadata": {},
   "outputs": [],
   "source": [
    "# read natural lands data\n",
    "with rio.open(f\"s3://gfw-data-lake/sbtn_natural_forests_map/v202504/raster/epsg-4326/10/40000/class/gdal-geotiff/{aoi_tile}.tif\") as src:\n",
    "    sbtn_data = src.read(1, window=window)\n",
    "    win_affine = src.window_transform(window)\n",
    "\n",
    "    # Extract natural forest and non-natural forest areas within the admin area\n",
    "    natural_forest = np.where(sbtn_data == 1, 1, 0)\n",
    "    nonnatural_forest = np.where(sbtn_data == 2, 1, 0)"
   ]
  },
  {
   "cell_type": "code",
   "execution_count": 6,
   "metadata": {},
   "outputs": [],
   "source": [
    "# read area data\n",
    "with rio.open(f\"s3://gfw-data-lake/umd_area_2013/v1.10/raster/epsg-4326/10/40000/area_m/gdal-geotiff/{aoi_tile}.tif\") as src:\n",
    "    area = src.read(1, window=window)"
   ]
  },
  {
   "cell_type": "code",
   "execution_count": 7,
   "metadata": {},
   "outputs": [],
   "source": [
    "# mask dist alerts by aoi geometry\n",
    "aoi_mask = geometry_mask([aoi.geometry], invert=True, transform=win_affine, out_shape=dist_alerts.shape)"
   ]
  },
  {
   "cell_type": "code",
   "execution_count": 15,
   "metadata": {},
   "outputs": [],
   "source": [
    "# contextual layer maskings \n",
    "dist_high_conf_aoi = aoi_mask * dist_high_conf * area / 10000\n",
    "dist_low_conf_aoi = aoi_mask * dist_low_conf * area / 10000\n",
    "dist_julian_date_aoi = aoi_mask * dist_julian_date"
   ]
  },
  {
   "cell_type": "code",
   "execution_count": 16,
   "metadata": {},
   "outputs": [],
   "source": [
    "# create a dataframe of analysis results\n",
    "high_conf_flat = dist_high_conf_aoi.flatten()\n",
    "low_conf_flat = dist_low_conf_aoi.flatten()\n",
    "julian_date_flat = dist_julian_date_aoi.flatten()\n",
    "\n",
    "df = pd.DataFrame({\n",
    "    \"alert_date\": julian_date_flat,\n",
    "    \"high_conf\": high_conf_flat,\n",
    "    \"low_conf\": low_conf_flat\n",
    "})"
   ]
  },
  {
   "cell_type": "code",
   "execution_count": 42,
   "metadata": {},
   "outputs": [],
   "source": [
    "high_conf_results = df.groupby(\"alert_date\")[\"high_conf\"].sum().reset_index()\n",
    "low_conf_results = df.groupby(\"alert_date\")[\"low_conf\"].sum().reset_index()\n",
    "\n",
    "high_conf_results[\"confidence\"] = 3\n",
    "high_conf_results[\"country\"] = gadm41_iso\n",
    "high_conf_results[\"region\"] = gadm41_region\n",
    "high_conf_results[\"subregion\"] = gadm41_subregion\n",
    "\n",
    "low_conf_results[\"confidence\"] = 2\n",
    "low_conf_results[\"country\"] = gadm41_iso\n",
    "low_conf_results[\"region\"] = gadm41_region\n",
    "low_conf_results[\"subregion\"] = gadm41_subregion\n",
    "\n",
    "# rename high_conf to value\n",
    "high_conf_results.rename(columns={\"high_conf\": \"area__ha\"}, inplace=True)\n",
    "low_conf_results.rename(columns={\"low_conf\": \"area__ha\"}, inplace=True)\n",
    "\n",
    "# reorder columns to country, region, subregion, alert_date, confidence, value\n",
    "high_conf_results = high_conf_results[[\"country\", \"region\", \"subregion\", \"alert_date\", \"confidence\", \"area__ha\"]]\n",
    "low_conf_results = low_conf_results[[\"country\", \"region\", \"subregion\", \"alert_date\", \"confidence\", \"area__ha\"]]\n",
    "\n",
    "# concatenate the results\n",
    "results = pd.concat([high_conf_results, low_conf_results], ignore_index=True)\n",
    "\n",
    "# drop rows where alert_date is zero\n",
    "results = results[results[\"alert_date\"] != 0]\n",
    "\n",
    "# drop rows where alerts are zero\n",
    "#results = results[results[\"value\"] != 0]"
   ]
  },
  {
   "cell_type": "code",
   "execution_count": 43,
   "metadata": {},
   "outputs": [],
   "source": [
    "results.rename(columns={\"confidence\": \"alert_confidence\"}, inplace=True)\n",
    "results['alert_date'] = results.sort_values(by='alert_date').alert_date.apply(lambda x: date(2020, 12, 31) + relativedelta(days=x))\n",
    "results[\"country\"] = results[\"country\"].apply(lambda x: numeric_to_alpha3.get(x, None))"
   ]
  },
  {
   "cell_type": "code",
   "execution_count": 47,
   "metadata": {},
   "outputs": [],
   "source": [
    "parquet_uri = \"s3://gfw-data-lake/umd_glad_dist_alerts/parquet2/gadm_dist_alerts.parquet\"\n",
    "zeno_df = pd.read_parquet(parquet_uri)\n",
    "zeno_aoi_df = zeno_df[(zeno_df[\"country\"] == \"BRA\") & (zeno_df[\"region\"] == 20)]"
   ]
  },
  {
   "cell_type": "code",
   "execution_count": null,
   "metadata": {},
   "outputs": [],
   "source": []
  }
 ],
 "metadata": {
  "kernelspec": {
   "display_name": "zeno",
   "language": "python",
   "name": "python3"
  },
  "language_info": {
   "codemirror_mode": {
    "name": "ipython",
    "version": 3
   },
   "file_extension": ".py",
   "mimetype": "text/x-python",
   "name": "python",
   "nbconvert_exporter": "python",
   "pygments_lexer": "ipython3",
   "version": "3.12.10"
  }
 },
 "nbformat": 4,
 "nbformat_minor": 2
}
