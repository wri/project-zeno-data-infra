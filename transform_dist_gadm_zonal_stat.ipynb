{
 "cells": [
  {
   "cell_type": "markdown",
   "id": "2c832186-95ef-44de-a1bb-974c62f61817",
   "metadata": {},
   "source": [
    "This notebook transforms pre-computed DIST alerts zonal stats data into usable format for zeno tooling"
   ]
  },
  {
   "cell_type": "code",
   "execution_count": 1,
   "id": "6c3caf38-efa0-4a9b-88b2-4f2679a7d631",
   "metadata": {},
   "outputs": [],
   "source": [
    "import pandas as pd\n",
    "from dateutil.relativedelta import relativedelta\n",
    "from datetime import date"
   ]
  },
  {
   "cell_type": "code",
   "execution_count": null,
   "id": "87144f92-a68e-494c-9bf6-323408848219",
   "metadata": {},
   "outputs": [],
   "source": [
    "numeric_to_alpha3 = {\n",
    "    4: 'AFG', 248: 'ALA', 8: 'ALB', 12: 'DZA', 16: 'ASM', 20: 'AND', 24: 'AGO', 660: 'AIA',\n",
    "    10: 'ATA', 28: 'ATG', 32: 'ARG', 51: 'ARM', 533: 'ABW', 36: 'AUS', 40: 'AUT', 31: 'AZE',\n",
    "    44: 'BHS', 48: 'BHR', 50: 'BGD', 52: 'BRB', 112: 'BLR', 56: 'BEL', 84: 'BLZ', 204: 'BEN',\n",
    "    60: 'BMU', 64: 'BTN', 68: 'BOL', 535: 'BES', 70: 'BIH', 72: 'BWA', 74: 'BVT', 76: 'BRA',\n",
    "    86: 'IOT', 96: 'BRN', 100: 'BGR', 854: 'BFA', 108: 'BDI', 132: 'CPV', 116: 'KHM', 120: 'CMR',\n",
    "    124: 'CAN', 136: 'CYM', 140: 'CAF', 148: 'TCD', 152: 'CHL', 156: 'CHN', 162: 'CXR', 166: 'CCK',\n",
    "    170: 'COL', 174: 'COM', 178: 'COG', 180: 'COD', 184: 'COK', 188: 'CRI', 384: 'CIV', 191: 'HRV',\n",
    "    192: 'CUB', 531: 'CUW', 196: 'CYP', 203: 'CZE', 208: 'DNK', 262: 'DJI', 212: 'DMA', 214: 'DOM',\n",
    "    218: 'ECU', 818: 'EGY', 222: 'SLV', 226: 'GNQ', 232: 'ERI', 233: 'EST', 748: 'SWZ', 231: 'ETH',\n",
    "    238: 'FLK', 234: 'FRO', 242: 'FJI', 246: 'FIN', 250: 'FRA', 254: 'GUF', 258: 'PYF', 260: 'ATF',\n",
    "    266: 'GAB', 270: 'GMB', 268: 'GEO', 276: 'DEU', 288: 'GHA', 292: 'GIB', 300: 'GRC', 304: 'GRL',\n",
    "    308: 'GRD', 312: 'GLP', 316: 'GUM', 320: 'GTM', 831: 'GGY', 324: 'GIN', 624: 'GNB', 328: 'GUY',\n",
    "    332: 'HTI', 334: 'HMD', 336: 'VAT', 340: 'HND', 344: 'HKG', 348: 'HUN', 352: 'ISL', 356: 'IND',\n",
    "    360: 'IDN', 364: 'IRN', 368: 'IRQ', 372: 'IRL', 833: 'IMN', 376: 'ISR', 380: 'ITA', 388: 'JAM',\n",
    "    392: 'JPN', 832: 'JEY', 400: 'JOR', 398: 'KAZ', 404: 'KEN', 296: 'KIR', 408: 'PRK', 410: 'KOR',\n",
    "    414: 'KWT', 417: 'KGZ', 418: 'LAO', 428: 'LVA', 422: 'LBN', 426: 'LSO', 430: 'LBR', 434: 'LBY',\n",
    "    438: 'LIE', 440: 'LTU', 442: 'LUX', 446: 'MAC', 450: 'MDG', 454: 'MWI', 458: 'MYS', 462: 'MDV',\n",
    "    466: 'MLI', 470: 'MLT', 584: 'MHL', 474: 'MTQ', 478: 'MRT', 480: 'MUS', 175: 'MYT', 484: 'MEX',\n",
    "    583: 'FSM', 498: 'MDA', 492: 'MCO', 496: 'MNG', 499: 'MNE', 500: 'MSR', 504: 'MAR', 508: 'MOZ',\n",
    "    104: 'MMR', 516: 'NAM', 520: 'NRU', 524: 'NPL', 528: 'NLD', 540: 'NCL', 554: 'NZL', 558: 'NIC',\n",
    "    562: 'NER', 566: 'NGA', 570: 'NIU', 574: 'NFK', 807: 'MKD', 580: 'MNP', 578: 'NOR', 512: 'OMN',\n",
    "    586: 'PAK', 585: 'PLW', 275: 'PSE', 591: 'PAN', 598: 'PNG', 600: 'PRY', 604: 'PER', 608: 'PHL',\n",
    "    612: 'PCN', 616: 'POL', 620: 'PRT', 630: 'PRI', 634: 'QAT', 638: 'REU', 642: 'ROU', 643: 'RUS',\n",
    "    646: 'RWA', 652: 'BLM', 654: 'SHN', 659: 'KNA', 662: 'LCA', 663: 'MAF', 666: 'SPM', 670: 'VCT',\n",
    "    882: 'WSM', 674: 'SMR', 678: 'STP', 682: 'SAU', 686: 'SEN', 688: 'SRB', 690: 'SYC', 694: 'SLE',\n",
    "    702: 'SGP', 534: 'SXM', 703: 'SVK', 705: 'SVN', 90: 'SLB', 706: 'SOM', 710: 'ZAF', 239: 'SGS',\n",
    "    728: 'SSD', 724: 'ESP', 144: 'LKA', 729: 'SDN', 740: 'SUR', 744: 'SJM', 752: 'SWE', 756: 'CHE',\n",
    "    760: 'SYR', 158: 'TWN', 762: 'TJK', 834: 'TZA', 764: 'THA', 626: 'TLS', 768: 'TGO', 772: 'TKL',\n",
    "    776: 'TON', 780: 'TTO', 788: 'TUN', 792: 'TUR', 795: 'TKM', 796: 'TCA', 798: 'TUV', 800: 'UGA',\n",
    "    804: 'UKR', 784: 'ARE', 826: 'GBR', 840: 'USA', 581: 'UMI', 858: 'URY', 860: 'UZB', 548: 'VUT',\n",
    "    862: 'VEN', 704: 'VNM', 92: 'VGB', 850: 'VIR', 876: 'WLF', 732: 'ESH', 887: 'YEM', 894: 'ZMB',\n",
    "    716: 'ZWE'\n",
    "}"
   ]
  },
  {
   "cell_type": "code",
   "execution_count": null,
   "id": "3f7ff95a-f788-492b-b61c-57bf80cfaa0d",
   "metadata": {},
   "outputs": [],
   "source": [
    "sbtn_natural_lands_classes = {\n",
    "    2: \"Forest\",\n",
    "    3: \"Short vegetation\",\n",
    "    4: \"Water\",\n",
    "    5: \"Mangroves\",\n",
    "    6: \"Bare\",\n",
    "    7: \"Snow/Ice\",\n",
    "    8: \"Wetland forest\",\n",
    "    9: \"Peat forest\",\n",
    "    10: \"Wetland short vegetation\",\n",
    "    11: \"Peat short vegetation\",\n",
    "    12: \"Cropland\",\n",
    "    13: \"Built-up\",\n",
    "    14: \"Tree cover\",\n",
    "    15: \"Short vegetation\",\n",
    "    16: \"Water\",\n",
    "    17: \"Wetland tree cover\",\n",
    "    18: \"Peat tree cover\",\n",
    "    19: \"Wetland short vegetation\",\n",
    "    20: \"Peat short vegetation\",\n",
    "    21: \"Bare\"\n",
    "}"
   ]
  },
  {
   "cell_type": "code",
   "execution_count": null,
   "id": "f7af6dcf-5839-44ef-a58a-dd3809d1df3f",
   "metadata": {},
   "outputs": [],
   "source": [
    "alerts_confidence = {\n",
    "    2: \"low\",\n",
    "    3: \"high\"\n",
    "}"
   ]
  },
  {
   "cell_type": "code",
   "execution_count": null,
   "id": "1b09174e-c580-486b-943d-cf99a5e02c10",
   "metadata": {},
   "outputs": [],
   "source": [
    "adm2 = pd.read_parquet('s3://gfw-data-lake/sbtn_natural_lands/zarr/dist_alerts_by_natural_lands_adm2_raw.parquet')"
   ]
  },
  {
   "cell_type": "code",
   "execution_count": null,
   "id": "f1417414-33e4-415f-9df7-e5fd972f1bc9",
   "metadata": {},
   "outputs": [],
   "source": [
    "adm2['countries'] = adm2.countries.apply(lambda x: numeric_to_alpha3.get(x, None))"
   ]
  },
  {
   "cell_type": "code",
   "execution_count": null,
   "id": "62f78660-9514-4896-9b11-3906cc3b438e",
   "metadata": {},
   "outputs": [],
   "source": [
    "adm2.dropna(subset='countries', inplace=True)"
   ]
  },
  {
   "cell_type": "code",
   "execution_count": null,
   "id": "514fd4f1-33c3-4e74-ae59-ab5b55c7602b",
   "metadata": {},
   "outputs": [],
   "source": [
    "adm2.rename(columns={'value': 'count'}, inplace=True)"
   ]
  },
  {
   "cell_type": "code",
   "execution_count": null,
   "id": "ab90abaf-ef2f-4ecb-afc4-b01925f92cbf",
   "metadata": {},
   "outputs": [],
   "source": [
    "adm2.rename(columns={'confidence': 'alert_confidence'}, inplace=True)"
   ]
  },
  {
   "cell_type": "code",
   "execution_count": null,
   "id": "1cc27071-f634-4c08-ba32-2ec5d3308c52",
   "metadata": {},
   "outputs": [],
   "source": [
    "adm2['alert_date'] = adm2.sort_values(by='alert_date').alert_date.apply(lambda x: date(2020, 12, 31) + relativedelta(days=x))"
   ]
  },
  {
   "cell_type": "code",
   "execution_count": null,
   "id": "0ba81e41-7a86-4e44-9ebd-88eda91fb5b0",
   "metadata": {},
   "outputs": [],
   "source": [
    "adm2['natural_lands'] = adm2.natural_lands.apply(lambda x: sbtn_natural_lands_classes.get(x, 'unclassified'))"
   ]
  },
  {
   "cell_type": "code",
   "execution_count": null,
   "id": "2070670d-a5d0-42dc-a9e6-17f7346029cb",
   "metadata": {},
   "outputs": [],
   "source": [
    "adm2['alert_confidence'] = adm2.alert_confidence.apply(lambda x: alerts_confidence[x])"
   ]
  },
  {
   "cell_type": "code",
   "execution_count": null,
   "id": "0a83495e-dcc6-4c52-897c-f53c4ff1ca79",
   "metadata": {},
   "outputs": [],
   "source": [
    "adm2.to_parquet('s3://gfw-data-lake/sbtn_natural_lands/zarr/dist_alerts_by_natural_lands_adm2.parquet', index=False)"
   ]
  },
  {
   "cell_type": "code",
   "execution_count": null,
   "id": "c2a16658-1c45-4f6c-9312-ff27e9ac0591",
   "metadata": {},
   "outputs": [],
   "source": [
    "adm2.head()"
   ]
  }
 ],
 "metadata": {
  "kernelspec": {
   "display_name": "Python 3 (ipykernel)",
   "language": "python",
   "name": "python3"
  },
  "language_info": {
   "codemirror_mode": {
    "name": "ipython",
    "version": 3
   },
   "file_extension": ".py",
   "mimetype": "text/x-python",
   "name": "python",
   "nbconvert_exporter": "python",
   "pygments_lexer": "ipython3",
   "version": "3.11.11"
  }
 },
 "nbformat": 4,
 "nbformat_minor": 5
}
